{
 "cells": [
  {
   "cell_type": "markdown",
   "metadata": {
    "colab_type": "text",
    "id": "AQ3ombqTMt8g"
   },
   "source": [
    "## NLP - Word2vec using Gensim"
   ]
  },
  {
   "cell_type": "markdown",
   "metadata": {},
   "source": [
    "**Word Embeddings** are the texts converted into numbers. It tries to map a word using a dictionary to a vector.\n",
    "\n",
    "The different types of word embeddings can be broadly classified into two categories.\n",
    "**Frequency based Embedding**   \n",
    "    - Count Vector\n",
    "    - TF-IDF Vector\n",
    "    - Co-Occurrence Vector\n",
    "**Prediction based Embedding**  \n",
    "    **- CBOW (Continuous Bag of words)** \n",
    "      It predict the probability of a word given a context. A context may be a single word or a group of words. But for simplicity, I will take a single context word and try to predict a single target word.    \n",
    "    **- Skip-Gram model** \n",
    "      It just flips CBOW’s architecture on its head. The aim of skip-gram is to predict the context given a word. It perform beter than CBOW.\n",
    "      \n",
    "We use Skip-Gram model to work on text data.  "
   ]
  },
  {
   "cell_type": "code",
   "execution_count": 21,
   "metadata": {
    "colab": {
     "autoexec": {
      "startup": false,
      "wait_interval": 0
     }
    },
    "colab_type": "code",
    "id": "t7sFgiiqNKxM"
   },
   "outputs": [
    {
     "name": "stdout",
     "output_type": "stream",
     "text": [
      "^C\n"
     ]
    }
   ],
   "source": [
    "# Install gensim\n",
    "!pip install gensim --quiet"
   ]
  },
  {
   "cell_type": "code",
   "execution_count": 1,
   "metadata": {
    "colab": {
     "autoexec": {
      "startup": false,
      "wait_interval": 0
     }
    },
    "colab_type": "code",
    "id": "MfFUGLE1Mt8h"
   },
   "outputs": [
    {
     "name": "stderr",
     "output_type": "stream",
     "text": [
      "C:\\Users\\s.mudalapuram\\AppData\\Local\\Continuum\\Anaconda3\\lib\\site-packages\\gensim\\utils.py:1209: UserWarning: detected Windows; aliasing chunkize to chunkize_serial\n",
      "  warnings.warn(\"detected Windows; aliasing chunkize to chunkize_serial\")\n"
     ]
    }
   ],
   "source": [
    "import pandas as pd\n",
    "import re, string\n",
    "import gensim\n",
    "import logging"
   ]
  },
  {
   "cell_type": "markdown",
   "metadata": {
    "colab_type": "text",
    "id": "e_Pjb3y3Mt8o"
   },
   "source": [
    "### Load Moview reviews Text Data\n",
    "\n",
    "Download data from Kaggle -> https://www.kaggle.com/c/word2vec-nlp-tutorial/data.\n",
    "\n",
    "Filename: unlabeledTrainData.tsv.zip"
   ]
  },
  {
   "cell_type": "code",
   "execution_count": 2,
   "metadata": {},
   "outputs": [],
   "source": [
    "your_local_path=\"C:/Users/s.mudalapuram/Documents/PythonMe/data/\""
   ]
  },
  {
   "cell_type": "code",
   "execution_count": 3,
   "metadata": {
    "colab": {
     "autoexec": {
      "startup": false,
      "wait_interval": 0
     }
    },
    "colab_type": "code",
    "id": "b668AhkjMt8p"
   },
   "outputs": [],
   "source": [
    "df = pd.read_csv(your_local_path+'unlabeledTrainData.zip', header=0, delimiter=\"\\t\", quoting=3)"
   ]
  },
  {
   "cell_type": "code",
   "execution_count": 4,
   "metadata": {
    "colab": {
     "autoexec": {
      "startup": false,
      "wait_interval": 0
     }
    },
    "colab_type": "code",
    "id": "adE_2OC5Mt8r"
   },
   "outputs": [
    {
     "name": "stdout",
     "output_type": "stream",
     "text": [
      "(50000, 2)\n"
     ]
    },
    {
     "data": {
      "text/html": [
       "<div>\n",
       "<style scoped>\n",
       "    .dataframe tbody tr th:only-of-type {\n",
       "        vertical-align: middle;\n",
       "    }\n",
       "\n",
       "    .dataframe tbody tr th {\n",
       "        vertical-align: top;\n",
       "    }\n",
       "\n",
       "    .dataframe thead th {\n",
       "        text-align: right;\n",
       "    }\n",
       "</style>\n",
       "<table border=\"1\" class=\"dataframe\">\n",
       "  <thead>\n",
       "    <tr style=\"text-align: right;\">\n",
       "      <th></th>\n",
       "      <th>id</th>\n",
       "      <th>review</th>\n",
       "    </tr>\n",
       "  </thead>\n",
       "  <tbody>\n",
       "    <tr>\n",
       "      <th>0</th>\n",
       "      <td>\"9999_0\"</td>\n",
       "      <td>\"Watching Time Chasers, it obvious that it was...</td>\n",
       "    </tr>\n",
       "    <tr>\n",
       "      <th>1</th>\n",
       "      <td>\"45057_0\"</td>\n",
       "      <td>\"I saw this film about 20 years ago and rememb...</td>\n",
       "    </tr>\n",
       "    <tr>\n",
       "      <th>2</th>\n",
       "      <td>\"15561_0\"</td>\n",
       "      <td>\"Minor Spoilers&lt;br /&gt;&lt;br /&gt;In New York, Joan B...</td>\n",
       "    </tr>\n",
       "    <tr>\n",
       "      <th>3</th>\n",
       "      <td>\"7161_0\"</td>\n",
       "      <td>\"I went to see this film with a great deal of ...</td>\n",
       "    </tr>\n",
       "    <tr>\n",
       "      <th>4</th>\n",
       "      <td>\"43971_0\"</td>\n",
       "      <td>\"Yes, I agree with everyone on this site this ...</td>\n",
       "    </tr>\n",
       "  </tbody>\n",
       "</table>\n",
       "</div>"
      ],
      "text/plain": [
       "          id                                             review\n",
       "0   \"9999_0\"  \"Watching Time Chasers, it obvious that it was...\n",
       "1  \"45057_0\"  \"I saw this film about 20 years ago and rememb...\n",
       "2  \"15561_0\"  \"Minor Spoilers<br /><br />In New York, Joan B...\n",
       "3   \"7161_0\"  \"I went to see this film with a great deal of ...\n",
       "4  \"43971_0\"  \"Yes, I agree with everyone on this site this ..."
      ]
     },
     "execution_count": 4,
     "metadata": {},
     "output_type": "execute_result"
    }
   ],
   "source": [
    "print(df.shape)\n",
    "df.head()"
   ]
  },
  {
   "cell_type": "markdown",
   "metadata": {
    "colab_type": "text",
    "id": "_das1R8NMt8y"
   },
   "source": [
    "## Function to Clean up data"
   ]
  },
  {
   "cell_type": "code",
   "execution_count": 5,
   "metadata": {
    "colab": {
     "autoexec": {
      "startup": false,
      "wait_interval": 0
     }
    },
    "colab_type": "code",
    "id": "R_fMLpBwMt8z"
   },
   "outputs": [],
   "source": [
    "def clean_str(string):\n",
    "  \"\"\"\n",
    "  String cleaning before vectorization\n",
    "  \"\"\"\n",
    "  try:    \n",
    "    string = re.sub(r'^https?:\\/\\/<>.*[\\r\\n]*', '', string, flags=re.MULTILINE)\n",
    "    string = re.sub(r\"[^A-Za-z]\", \" \", string)         \n",
    "    words = string.strip().lower().split()    \n",
    "    words = [w for w in words if len(w)>=1]\n",
    "    return \" \".join(words)\t\n",
    "  except:\n",
    "    return \"\""
   ]
  },
  {
   "cell_type": "markdown",
   "metadata": {
    "colab_type": "text",
    "id": "bGFBJUiXMt80"
   },
   "source": [
    "Clean the Data using routine above"
   ]
  },
  {
   "cell_type": "code",
   "execution_count": 6,
   "metadata": {
    "colab": {
     "autoexec": {
      "startup": false,
      "wait_interval": 0
     }
    },
    "colab_type": "code",
    "id": "OpgTqbOFMt82"
   },
   "outputs": [
    {
     "data": {
      "text/html": [
       "<div>\n",
       "<style scoped>\n",
       "    .dataframe tbody tr th:only-of-type {\n",
       "        vertical-align: middle;\n",
       "    }\n",
       "\n",
       "    .dataframe tbody tr th {\n",
       "        vertical-align: top;\n",
       "    }\n",
       "\n",
       "    .dataframe thead th {\n",
       "        text-align: right;\n",
       "    }\n",
       "</style>\n",
       "<table border=\"1\" class=\"dataframe\">\n",
       "  <thead>\n",
       "    <tr style=\"text-align: right;\">\n",
       "      <th></th>\n",
       "      <th>id</th>\n",
       "      <th>review</th>\n",
       "      <th>clean_review</th>\n",
       "    </tr>\n",
       "  </thead>\n",
       "  <tbody>\n",
       "    <tr>\n",
       "      <th>0</th>\n",
       "      <td>\"9999_0\"</td>\n",
       "      <td>\"Watching Time Chasers, it obvious that it was...</td>\n",
       "      <td>watching time chasers it obvious that it was m...</td>\n",
       "    </tr>\n",
       "    <tr>\n",
       "      <th>1</th>\n",
       "      <td>\"45057_0\"</td>\n",
       "      <td>\"I saw this film about 20 years ago and rememb...</td>\n",
       "      <td>i saw this film about years ago and remember i...</td>\n",
       "    </tr>\n",
       "    <tr>\n",
       "      <th>2</th>\n",
       "      <td>\"15561_0\"</td>\n",
       "      <td>\"Minor Spoilers&lt;br /&gt;&lt;br /&gt;In New York, Joan B...</td>\n",
       "      <td>minor spoilers br br in new york joan barnard ...</td>\n",
       "    </tr>\n",
       "    <tr>\n",
       "      <th>3</th>\n",
       "      <td>\"7161_0\"</td>\n",
       "      <td>\"I went to see this film with a great deal of ...</td>\n",
       "      <td>i went to see this film with a great deal of e...</td>\n",
       "    </tr>\n",
       "    <tr>\n",
       "      <th>4</th>\n",
       "      <td>\"43971_0\"</td>\n",
       "      <td>\"Yes, I agree with everyone on this site this ...</td>\n",
       "      <td>yes i agree with everyone on this site this mo...</td>\n",
       "    </tr>\n",
       "  </tbody>\n",
       "</table>\n",
       "</div>"
      ],
      "text/plain": [
       "          id                                             review  \\\n",
       "0   \"9999_0\"  \"Watching Time Chasers, it obvious that it was...   \n",
       "1  \"45057_0\"  \"I saw this film about 20 years ago and rememb...   \n",
       "2  \"15561_0\"  \"Minor Spoilers<br /><br />In New York, Joan B...   \n",
       "3   \"7161_0\"  \"I went to see this film with a great deal of ...   \n",
       "4  \"43971_0\"  \"Yes, I agree with everyone on this site this ...   \n",
       "\n",
       "                                        clean_review  \n",
       "0  watching time chasers it obvious that it was m...  \n",
       "1  i saw this film about years ago and remember i...  \n",
       "2  minor spoilers br br in new york joan barnard ...  \n",
       "3  i went to see this film with a great deal of e...  \n",
       "4  yes i agree with everyone on this site this mo...  "
      ]
     },
     "execution_count": 6,
     "metadata": {},
     "output_type": "execute_result"
    }
   ],
   "source": [
    "df['clean_review'] = df['review'].apply(clean_str)\n",
    "df.head()"
   ]
  },
  {
   "cell_type": "code",
   "execution_count": 7,
   "metadata": {},
   "outputs": [
    {
     "data": {
      "text/plain": [
       "<bound method NDFrame.describe of               id                                             review  \\\n",
       "0       \"9999_0\"  \"Watching Time Chasers, it obvious that it was...   \n",
       "1      \"45057_0\"  \"I saw this film about 20 years ago and rememb...   \n",
       "2      \"15561_0\"  \"Minor Spoilers<br /><br />In New York, Joan B...   \n",
       "3       \"7161_0\"  \"I went to see this film with a great deal of ...   \n",
       "4      \"43971_0\"  \"Yes, I agree with everyone on this site this ...   \n",
       "5      \"36495_0\"  \"Jennifer Ehle was sparkling in \\\"Pride and Pr...   \n",
       "6      \"49472_0\"  \"Amy Poehler is a terrific comedian on Saturda...   \n",
       "7      \"36693_0\"  \"A plane carrying employees of a large biotech...   \n",
       "8        \"316_0\"  \"A well made, gritty science fiction movie, it...   \n",
       "9      \"32454_0\"  \"Incredibly dumb and utterly predictable story...   \n",
       "10     \"37128_0\"  \"After reading the comments for this movie, I ...   \n",
       "11     \"19439_0\"  \"It's hard to describe Elfen Lied to someone w...   \n",
       "12     \"10760_0\"  \"Of all the bile-inducing vomitoriums to squee...   \n",
       "13     \"15073_0\"  \"This is quite an underrated Hitchcock movie. ...   \n",
       "14     \"33119_0\"  \"Being a huge Gary Oldman fan, I had high hope...   \n",
       "15     \"38735_0\"  \"For the most part the acting was poorly done ...   \n",
       "16     \"12041_0\"  \"Ram Gopal Varma does it again yet another mov...   \n",
       "17     \"41565_0\"  \"I gave it 2 for some attempt at historical de...   \n",
       "18     \"48612_0\"  \"I wanted to watch this one sense I am a fan o...   \n",
       "19     \"17525_0\"  \"Che is a good film for chronicling the events...   \n",
       "20     \"32062_0\"  \"This film is very disturbing. It reminded me ...   \n",
       "21     \"48625_0\"  \"Let me put it this way. I love bad movies. I ...   \n",
       "22     \"48176_0\"  \"From the combined ministries of Jack and Rexe...   \n",
       "23     \"16232_0\"  \"Ghost World is one of the better teen or comm...   \n",
       "24     \"12528_0\"  \"Outstanding film dealing with a 16 year old w...   \n",
       "25     \"39976_0\"  \"This movie did play like a dream or maybe eve...   \n",
       "26     \"25857_0\"  \"This film is supposedly based on the true acc...   \n",
       "27     \"10552_0\"  \"I know that cartoons aimed towards adults gen...   \n",
       "28     \"26437_0\"  \"...but what a disappointment. The acting was ...   \n",
       "29     \"16262_0\"  \"As a long-time Holmes fan, and particularly o...   \n",
       "...          ...                                                ...   \n",
       "49970  \"25941_0\"  \"Wouldn't suit all tastes, but if you like it ...   \n",
       "49971  \"36778_0\"  \"As a great fan of Dwight Yoakam's music as we...   \n",
       "49972  \"37114_0\"  \"I'm a huge fan of Whoopi and have seen all of...   \n",
       "49973  \"11962_0\"  \"It not very often that I go to the same movie...   \n",
       "49974  \"32293_0\"  \"I, like most, worried that it would degrade \\...   \n",
       "49975   \"7005_0\"  \"This movie makes no bones about what it is an...   \n",
       "49976    \"112_0\"  \"The eyebrow-wagging Lionel Q. Deveraux (Grouc...   \n",
       "49977  \"46123_0\"  \"There maybe spoilers in the following; if you...   \n",
       "49978  \"10628_0\"  \"This is one of my favorite films. <br /><br /...   \n",
       "49979  \"22572_0\"  \"A novelist who could find a funny side of a d...   \n",
       "49980  \"40601_0\"  \"This is the worst drivel I've ever seen come ...   \n",
       "49981  \"31509_0\"  \"\\\"Jaguar Lives\\\" is very slow and plodding en...   \n",
       "49982  \"33703_0\"  \"This should have been better, much better. A ...   \n",
       "49983   \"7379_0\"  \"Look at the number of film festival awards \\\"...   \n",
       "49984  \"29370_0\"  \"This movie is one of the best of all time.Fir...   \n",
       "49985  \"27604_0\"  \"The earliest episodes with John Amos as the c...   \n",
       "49986   \"9197_0\"  \"I've been looking for this movie since I beca...   \n",
       "49987  \"34018_0\"  \"OK, this isn't a good film by any stretch of ...   \n",
       "49988  \"15625_0\"  \"It is arguably the most boring film I've ever...   \n",
       "49989  \"35740_0\"  \"Oh joy,, another foreign torture/bloody movie...   \n",
       "49990  \"20947_0\"  \"In 1994, a year that gave us Forrest Gump, Pu...   \n",
       "49991   \"7432_0\"  \"http://eattheblinds.blogspot.com/<br /><br />...   \n",
       "49992  \"35236_0\"  \"Taste the Blood of Dracula marks a first for ...   \n",
       "49993  \"12075_0\"  \"There were some aspects of this movie I reall...   \n",
       "49994  \"23455_0\"  \"Look, I don't know what people have against E...   \n",
       "49995  \"18984_0\"  \"The original Man Eater by Joe D'Amato is some...   \n",
       "49996  \"16433_0\"  \"When Home Box Office was in it's early days m...   \n",
       "49997  \"16006_0\"  \"Griffin Dunne was born into a cultural family...   \n",
       "49998  \"40155_0\"  \"Not a bad story, but the low budget rears its...   \n",
       "49999  \"35270_0\"  \"This not-very-good mummy-alien flick does fea...   \n",
       "\n",
       "                                            clean_review  \n",
       "0      watching time chasers it obvious that it was m...  \n",
       "1      i saw this film about years ago and remember i...  \n",
       "2      minor spoilers br br in new york joan barnard ...  \n",
       "3      i went to see this film with a great deal of e...  \n",
       "4      yes i agree with everyone on this site this mo...  \n",
       "5      jennifer ehle was sparkling in pride and preju...  \n",
       "6      amy poehler is a terrific comedian on saturday...  \n",
       "7      a plane carrying employees of a large biotech ...  \n",
       "8      a well made gritty science fiction movie it co...  \n",
       "9      incredibly dumb and utterly predictable story ...  \n",
       "10     after reading the comments for this movie i am...  \n",
       "11     it s hard to describe elfen lied to someone wh...  \n",
       "12     of all the bile inducing vomitoriums to squeez...  \n",
       "13     this is quite an underrated hitchcock movie wh...  \n",
       "14     being a huge gary oldman fan i had high hopes ...  \n",
       "15     for the most part the acting was poorly done e...  \n",
       "16     ram gopal varma does it again yet another movi...  \n",
       "17     i gave it for some attempt at historical detai...  \n",
       "18     i wanted to watch this one sense i am a fan of...  \n",
       "19     che is a good film for chronicling the events ...  \n",
       "20     this film is very disturbing it reminded me of...  \n",
       "21     let me put it this way i love bad movies i pre...  \n",
       "22     from the combined ministries of jack and rexel...  \n",
       "23     ghost world is one of the better teen or commi...  \n",
       "24     outstanding film dealing with a year old who t...  \n",
       "25     this movie did play like a dream or maybe even...  \n",
       "26     this film is supposedly based on the true acco...  \n",
       "27     i know that cartoons aimed towards adults gene...  \n",
       "28     but what a disappointment the acting was super...  \n",
       "29     as a long time holmes fan and particularly of ...  \n",
       "...                                                  ...  \n",
       "49970  wouldn t suit all tastes but if you like it yo...  \n",
       "49971  as a great fan of dwight yoakam s music as wel...  \n",
       "49972  i m a huge fan of whoopi and have seen all of ...  \n",
       "49973  it not very often that i go to the same movie ...  \n",
       "49974  i like most worried that it would degrade bamb...  \n",
       "49975  this movie makes no bones about what it is and...  \n",
       "49976  the eyebrow wagging lionel q deveraux groucho ...  \n",
       "49977  there maybe spoilers in the following if you g...  \n",
       "49978  this is one of my favorite films br br terribl...  \n",
       "49979  a novelist who could find a funny side of a di...  \n",
       "49980  this is the worst drivel i ve ever seen come t...  \n",
       "49981  jaguar lives is very slow and plodding enterta...  \n",
       "49982  this should have been better much better a for...  \n",
       "49983  look at the number of film festival awards the...  \n",
       "49984  this movie is one of the best of all time firs...  \n",
       "49985  the earliest episodes with john amos as the ca...  \n",
       "49986  i ve been looking for this movie since i becam...  \n",
       "49987  ok this isn t a good film by any stretch of th...  \n",
       "49988  it is arguably the most boring film i ve ever ...  \n",
       "49989  oh joy another foreign torture bloody movie th...  \n",
       "49990  in a year that gave us forrest gump pulp ficti...  \n",
       "49991  http eattheblinds blogspot com br br if you ev...  \n",
       "49992  taste the blood of dracula marks a first for h...  \n",
       "49993  there were some aspects of this movie i really...  \n",
       "49994  look i don t know what people have against edd...  \n",
       "49995  the original man eater by joe d amato is somew...  \n",
       "49996  when home box office was in it s early days mo...  \n",
       "49997  griffin dunne was born into a cultural family ...  \n",
       "49998  not a bad story but the low budget rears its u...  \n",
       "49999  this not very good mummy alien flick does feat...  \n",
       "\n",
       "[50000 rows x 3 columns]>"
      ]
     },
     "execution_count": 7,
     "metadata": {},
     "output_type": "execute_result"
    }
   ],
   "source": [
    "df.describe"
   ]
  },
  {
   "cell_type": "markdown",
   "metadata": {
    "colab_type": "text",
    "id": "8ffFlGNzMt8-"
   },
   "source": [
    "## Convert Each Review to a Word List\n",
    "This is required for gensim Word2Vec"
   ]
  },
  {
   "cell_type": "code",
   "execution_count": 8,
   "metadata": {
    "colab": {
     "autoexec": {
      "startup": false,
      "wait_interval": 0
     }
    },
    "colab_type": "code",
    "id": "sNyp7PYQMt8_"
   },
   "outputs": [],
   "source": [
    "documents = []\n",
    "\n",
    "for doc in df['clean_review']:\n",
    "    documents.append(doc.split(' '))"
   ]
  },
  {
   "cell_type": "markdown",
   "metadata": {
    "colab_type": "text",
    "id": "Ql8i0fg0Mt9F"
   },
   "source": [
    "## Build the Model"
   ]
  },
  {
   "cell_type": "code",
   "execution_count": 9,
   "metadata": {
    "colab": {
     "autoexec": {
      "startup": false,
      "wait_interval": 0
     }
    },
    "colab_type": "code",
    "id": "du8EhuZaMt9G"
   },
   "outputs": [
    {
     "name": "stderr",
     "output_type": "stream",
     "text": [
      "2018-10-06 12:26:35,139 : WARNING : consider setting layer size to a multiple of 4 for greater performance\n",
      "2018-10-06 12:26:35,142 : INFO : collecting all words and their counts\n",
      "2018-10-06 12:26:35,143 : INFO : PROGRESS: at sentence #0, processed 0 words, keeping 0 word types\n",
      "2018-10-06 12:26:38,543 : INFO : PROGRESS: at sentence #10000, processed 2399440 words, keeping 51654 word types\n",
      "2018-10-06 12:26:42,128 : INFO : PROGRESS: at sentence #20000, processed 4835846 words, keeping 69077 word types\n",
      "2018-10-06 12:26:45,678 : INFO : PROGRESS: at sentence #30000, processed 7267977 words, keeping 81515 word types\n",
      "2018-10-06 12:26:49,196 : INFO : PROGRESS: at sentence #40000, processed 9669772 words, keeping 91685 word types\n",
      "2018-10-06 12:26:52,570 : INFO : collected 100479 word types from a corpus of 12084660 raw words and 50000 sentences\n",
      "2018-10-06 12:26:52,575 : INFO : Loading a fresh vocabulary\n",
      "2018-10-06 12:26:54,809 : INFO : effective_min_count=10 retains 28322 unique words (28% of original 100479, drops 72157)\n",
      "2018-10-06 12:26:54,814 : INFO : effective_min_count=10 leaves 11910457 word corpus (98% of original 12084660, drops 174203)\n",
      "2018-10-06 12:26:55,575 : INFO : deleting the raw counts dictionary of 100479 items\n",
      "2018-10-06 12:26:55,599 : INFO : sample=0.001 downsamples 49 most-common words\n",
      "2018-10-06 12:26:55,601 : INFO : downsampling leaves estimated 8817283 word corpus (74.0% of prior 11910457)\n",
      "2018-10-06 12:26:56,312 : INFO : estimated required memory for 28322 words and 50 dimensions: 25489800 bytes\n",
      "2018-10-06 12:26:56,319 : INFO : resetting layer weights\n",
      "2018-10-06 12:26:59,005 : INFO : training model with 4 workers on 28322 vocabulary and 50 features, using sg=0 hs=0 sample=0.001 negative=5 window=5\n",
      "2018-10-06 12:27:00,303 : INFO : EPOCH 1 - PROGRESS: at 2.19% examples, 189022 words/s, in_qsize 8, out_qsize 0\n",
      "2018-10-06 12:27:01,354 : INFO : EPOCH 1 - PROGRESS: at 4.69% examples, 200082 words/s, in_qsize 8, out_qsize 2\n",
      "2018-10-06 12:27:02,399 : INFO : EPOCH 1 - PROGRESS: at 7.04% examples, 197571 words/s, in_qsize 8, out_qsize 0\n",
      "2018-10-06 12:27:03,436 : INFO : EPOCH 1 - PROGRESS: at 9.51% examples, 200187 words/s, in_qsize 8, out_qsize 0\n",
      "2018-10-06 12:27:04,478 : INFO : EPOCH 1 - PROGRESS: at 11.90% examples, 200294 words/s, in_qsize 8, out_qsize 2\n",
      "2018-10-06 12:27:05,507 : INFO : EPOCH 1 - PROGRESS: at 14.21% examples, 199288 words/s, in_qsize 8, out_qsize 2\n",
      "2018-10-06 12:27:06,552 : INFO : EPOCH 1 - PROGRESS: at 16.32% examples, 196445 words/s, in_qsize 8, out_qsize 2\n",
      "2018-10-06 12:27:07,578 : INFO : EPOCH 1 - PROGRESS: at 18.93% examples, 199576 words/s, in_qsize 8, out_qsize 0\n",
      "2018-10-06 12:27:08,603 : INFO : EPOCH 1 - PROGRESS: at 21.13% examples, 198421 words/s, in_qsize 7, out_qsize 0\n",
      "2018-10-06 12:27:09,617 : INFO : EPOCH 1 - PROGRESS: at 23.38% examples, 197609 words/s, in_qsize 7, out_qsize 0\n",
      "2018-10-06 12:27:10,619 : INFO : EPOCH 1 - PROGRESS: at 25.66% examples, 198446 words/s, in_qsize 8, out_qsize 0\n",
      "2018-10-06 12:27:11,689 : INFO : EPOCH 1 - PROGRESS: at 28.15% examples, 198697 words/s, in_qsize 7, out_qsize 0\n",
      "2018-10-06 12:27:12,751 : INFO : EPOCH 1 - PROGRESS: at 30.31% examples, 197392 words/s, in_qsize 8, out_qsize 0\n",
      "2018-10-06 12:27:13,780 : INFO : EPOCH 1 - PROGRESS: at 32.65% examples, 197674 words/s, in_qsize 8, out_qsize 0\n",
      "2018-10-06 12:27:14,817 : INFO : EPOCH 1 - PROGRESS: at 35.05% examples, 198336 words/s, in_qsize 6, out_qsize 1\n",
      "2018-10-06 12:27:15,878 : INFO : EPOCH 1 - PROGRESS: at 37.43% examples, 198579 words/s, in_qsize 7, out_qsize 0\n",
      "2018-10-06 12:27:16,900 : INFO : EPOCH 1 - PROGRESS: at 39.82% examples, 199249 words/s, in_qsize 8, out_qsize 1\n",
      "2018-10-06 12:27:17,928 : INFO : EPOCH 1 - PROGRESS: at 42.02% examples, 198633 words/s, in_qsize 8, out_qsize 0\n",
      "2018-10-06 12:27:18,973 : INFO : EPOCH 1 - PROGRESS: at 44.18% examples, 197907 words/s, in_qsize 7, out_qsize 0\n",
      "2018-10-06 12:27:20,017 : INFO : EPOCH 1 - PROGRESS: at 46.38% examples, 197595 words/s, in_qsize 8, out_qsize 0\n",
      "2018-10-06 12:27:21,031 : INFO : EPOCH 1 - PROGRESS: at 48.60% examples, 197280 words/s, in_qsize 7, out_qsize 0\n",
      "2018-10-06 12:27:22,064 : INFO : EPOCH 1 - PROGRESS: at 50.92% examples, 197171 words/s, in_qsize 8, out_qsize 0\n",
      "2018-10-06 12:27:23,071 : INFO : EPOCH 1 - PROGRESS: at 53.44% examples, 198184 words/s, in_qsize 7, out_qsize 0\n",
      "2018-10-06 12:27:24,076 : INFO : EPOCH 1 - PROGRESS: at 55.69% examples, 198310 words/s, in_qsize 7, out_qsize 0\n",
      "2018-10-06 12:27:25,129 : INFO : EPOCH 1 - PROGRESS: at 57.88% examples, 197731 words/s, in_qsize 7, out_qsize 0\n",
      "2018-10-06 12:27:26,172 : INFO : EPOCH 1 - PROGRESS: at 60.26% examples, 198074 words/s, in_qsize 7, out_qsize 0\n",
      "2018-10-06 12:27:27,186 : INFO : EPOCH 1 - PROGRESS: at 62.45% examples, 197810 words/s, in_qsize 7, out_qsize 0\n",
      "2018-10-06 12:27:28,228 : INFO : EPOCH 1 - PROGRESS: at 64.67% examples, 197615 words/s, in_qsize 8, out_qsize 0\n",
      "2018-10-06 12:27:29,267 : INFO : EPOCH 1 - PROGRESS: at 66.86% examples, 197218 words/s, in_qsize 8, out_qsize 0\n",
      "2018-10-06 12:27:30,275 : INFO : EPOCH 1 - PROGRESS: at 68.96% examples, 196592 words/s, in_qsize 6, out_qsize 1\n",
      "2018-10-06 12:27:31,317 : INFO : EPOCH 1 - PROGRESS: at 71.28% examples, 196477 words/s, in_qsize 8, out_qsize 0\n",
      "2018-10-06 12:27:32,334 : INFO : EPOCH 1 - PROGRESS: at 73.57% examples, 196495 words/s, in_qsize 8, out_qsize 0\n",
      "2018-10-06 12:27:33,346 : INFO : EPOCH 1 - PROGRESS: at 75.84% examples, 196539 words/s, in_qsize 8, out_qsize 0\n",
      "2018-10-06 12:27:34,380 : INFO : EPOCH 1 - PROGRESS: at 78.44% examples, 197286 words/s, in_qsize 7, out_qsize 0\n",
      "2018-10-06 12:27:35,395 : INFO : EPOCH 1 - PROGRESS: at 80.71% examples, 197083 words/s, in_qsize 8, out_qsize 1\n",
      "2018-10-06 12:27:36,418 : INFO : EPOCH 1 - PROGRESS: at 83.02% examples, 197252 words/s, in_qsize 7, out_qsize 0\n",
      "2018-10-06 12:27:37,450 : INFO : EPOCH 1 - PROGRESS: at 85.35% examples, 197201 words/s, in_qsize 7, out_qsize 0\n",
      "2018-10-06 12:27:38,496 : INFO : EPOCH 1 - PROGRESS: at 87.61% examples, 196875 words/s, in_qsize 8, out_qsize 0\n",
      "2018-10-06 12:27:39,541 : INFO : EPOCH 1 - PROGRESS: at 89.78% examples, 196554 words/s, in_qsize 7, out_qsize 1\n",
      "2018-10-06 12:27:40,582 : INFO : EPOCH 1 - PROGRESS: at 91.93% examples, 196290 words/s, in_qsize 8, out_qsize 0\n",
      "2018-10-06 12:27:41,586 : INFO : EPOCH 1 - PROGRESS: at 93.79% examples, 195508 words/s, in_qsize 8, out_qsize 0\n",
      "2018-10-06 12:27:42,636 : INFO : EPOCH 1 - PROGRESS: at 95.95% examples, 195208 words/s, in_qsize 7, out_qsize 0\n",
      "2018-10-06 12:27:43,688 : INFO : EPOCH 1 - PROGRESS: at 98.24% examples, 195103 words/s, in_qsize 7, out_qsize 0\n",
      "2018-10-06 12:27:44,328 : INFO : worker thread finished; awaiting finish of 3 more threads\n",
      "2018-10-06 12:27:44,334 : INFO : worker thread finished; awaiting finish of 2 more threads\n",
      "2018-10-06 12:27:44,387 : INFO : worker thread finished; awaiting finish of 1 more threads\n",
      "2018-10-06 12:27:44,401 : INFO : worker thread finished; awaiting finish of 0 more threads\n",
      "2018-10-06 12:27:44,413 : INFO : EPOCH - 1 : training on 12084660 raw words (8817323 effective words) took 45.1s, 195355 effective words/s\n",
      "2018-10-06 12:27:45,783 : INFO : EPOCH 2 - PROGRESS: at 2.29% examples, 192327 words/s, in_qsize 7, out_qsize 0\n",
      "2018-10-06 12:27:46,807 : INFO : EPOCH 2 - PROGRESS: at 4.43% examples, 190252 words/s, in_qsize 7, out_qsize 0\n",
      "2018-10-06 12:27:47,826 : INFO : EPOCH 2 - PROGRESS: at 6.61% examples, 187940 words/s, in_qsize 8, out_qsize 0\n",
      "2018-10-06 12:27:48,879 : INFO : EPOCH 2 - PROGRESS: at 8.85% examples, 187098 words/s, in_qsize 8, out_qsize 0\n",
      "2018-10-06 12:27:49,900 : INFO : EPOCH 2 - PROGRESS: at 11.33% examples, 191933 words/s, in_qsize 8, out_qsize 0\n",
      "2018-10-06 12:27:50,957 : INFO : EPOCH 2 - PROGRESS: at 13.78% examples, 193932 words/s, in_qsize 7, out_qsize 0\n",
      "2018-10-06 12:27:51,997 : INFO : EPOCH 2 - PROGRESS: at 16.08% examples, 193818 words/s, in_qsize 8, out_qsize 0\n",
      "2018-10-06 12:27:53,072 : INFO : EPOCH 2 - PROGRESS: at 18.35% examples, 192740 words/s, in_qsize 7, out_qsize 0\n",
      "2018-10-06 12:27:54,134 : INFO : EPOCH 2 - PROGRESS: at 20.54% examples, 191517 words/s, in_qsize 8, out_qsize 2\n",
      "2018-10-06 12:27:55,135 : INFO : EPOCH 2 - PROGRESS: at 22.98% examples, 193056 words/s, in_qsize 7, out_qsize 0\n"
     ]
    },
    {
     "name": "stderr",
     "output_type": "stream",
     "text": [
      "2018-10-06 12:27:56,146 : INFO : EPOCH 2 - PROGRESS: at 25.10% examples, 192879 words/s, in_qsize 8, out_qsize 0\n",
      "2018-10-06 12:27:57,172 : INFO : EPOCH 2 - PROGRESS: at 27.41% examples, 193162 words/s, in_qsize 8, out_qsize 0\n",
      "2018-10-06 12:27:58,206 : INFO : EPOCH 2 - PROGRESS: at 29.64% examples, 193235 words/s, in_qsize 7, out_qsize 0\n",
      "2018-10-06 12:27:59,247 : INFO : EPOCH 2 - PROGRESS: at 31.97% examples, 193618 words/s, in_qsize 7, out_qsize 0\n",
      "2018-10-06 12:28:00,264 : INFO : EPOCH 2 - PROGRESS: at 34.36% examples, 194344 words/s, in_qsize 8, out_qsize 0\n",
      "2018-10-06 12:28:01,293 : INFO : EPOCH 2 - PROGRESS: at 36.56% examples, 193910 words/s, in_qsize 7, out_qsize 0\n",
      "2018-10-06 12:28:02,331 : INFO : EPOCH 2 - PROGRESS: at 38.51% examples, 192660 words/s, in_qsize 8, out_qsize 0\n",
      "2018-10-06 12:28:03,348 : INFO : EPOCH 2 - PROGRESS: at 40.87% examples, 193657 words/s, in_qsize 8, out_qsize 0\n",
      "2018-10-06 12:28:04,380 : INFO : EPOCH 2 - PROGRESS: at 43.23% examples, 194036 words/s, in_qsize 8, out_qsize 0\n",
      "2018-10-06 12:28:05,381 : INFO : EPOCH 2 - PROGRESS: at 45.36% examples, 193985 words/s, in_qsize 7, out_qsize 0\n",
      "2018-10-06 12:28:06,417 : INFO : EPOCH 2 - PROGRESS: at 47.44% examples, 193331 words/s, in_qsize 8, out_qsize 0\n",
      "2018-10-06 12:28:07,445 : INFO : EPOCH 2 - PROGRESS: at 49.70% examples, 193115 words/s, in_qsize 7, out_qsize 0\n",
      "2018-10-06 12:28:08,460 : INFO : EPOCH 2 - PROGRESS: at 51.79% examples, 192709 words/s, in_qsize 8, out_qsize 0\n",
      "2018-10-06 12:28:09,468 : INFO : EPOCH 2 - PROGRESS: at 54.00% examples, 192723 words/s, in_qsize 7, out_qsize 0\n",
      "2018-10-06 12:28:10,487 : INFO : EPOCH 2 - PROGRESS: at 56.10% examples, 192365 words/s, in_qsize 7, out_qsize 0\n",
      "2018-10-06 12:28:11,524 : INFO : EPOCH 2 - PROGRESS: at 58.27% examples, 192163 words/s, in_qsize 8, out_qsize 0\n",
      "2018-10-06 12:28:12,553 : INFO : EPOCH 2 - PROGRESS: at 60.43% examples, 192028 words/s, in_qsize 8, out_qsize 0\n",
      "2018-10-06 12:28:13,613 : INFO : EPOCH 2 - PROGRESS: at 62.58% examples, 191675 words/s, in_qsize 7, out_qsize 0\n",
      "2018-10-06 12:28:14,631 : INFO : EPOCH 2 - PROGRESS: at 64.91% examples, 192091 words/s, in_qsize 8, out_qsize 0\n",
      "2018-10-06 12:28:15,697 : INFO : EPOCH 2 - PROGRESS: at 67.28% examples, 192163 words/s, in_qsize 8, out_qsize 0\n",
      "2018-10-06 12:28:16,795 : INFO : EPOCH 2 - PROGRESS: at 69.62% examples, 191867 words/s, in_qsize 7, out_qsize 0\n",
      "2018-10-06 12:28:17,844 : INFO : EPOCH 2 - PROGRESS: at 71.57% examples, 190993 words/s, in_qsize 7, out_qsize 0\n",
      "2018-10-06 12:28:18,887 : INFO : EPOCH 2 - PROGRESS: at 73.81% examples, 190815 words/s, in_qsize 8, out_qsize 0\n",
      "2018-10-06 12:28:19,902 : INFO : EPOCH 2 - PROGRESS: at 75.92% examples, 190615 words/s, in_qsize 7, out_qsize 0\n",
      "2018-10-06 12:28:20,919 : INFO : EPOCH 2 - PROGRESS: at 77.91% examples, 190202 words/s, in_qsize 7, out_qsize 0\n",
      "2018-10-06 12:28:21,957 : INFO : EPOCH 2 - PROGRESS: at 80.23% examples, 190087 words/s, in_qsize 7, out_qsize 0\n",
      "2018-10-06 12:28:22,979 : INFO : EPOCH 2 - PROGRESS: at 82.30% examples, 189886 words/s, in_qsize 7, out_qsize 0\n",
      "2018-10-06 12:28:24,009 : INFO : EPOCH 2 - PROGRESS: at 84.64% examples, 190212 words/s, in_qsize 8, out_qsize 0\n",
      "2018-10-06 12:28:25,029 : INFO : EPOCH 2 - PROGRESS: at 87.09% examples, 190559 words/s, in_qsize 7, out_qsize 0\n",
      "2018-10-06 12:28:26,060 : INFO : EPOCH 2 - PROGRESS: at 89.25% examples, 190308 words/s, in_qsize 8, out_qsize 0\n",
      "2018-10-06 12:28:27,097 : INFO : EPOCH 2 - PROGRESS: at 91.34% examples, 190067 words/s, in_qsize 7, out_qsize 0\n",
      "2018-10-06 12:28:28,134 : INFO : EPOCH 2 - PROGRESS: at 93.71% examples, 190448 words/s, in_qsize 7, out_qsize 0\n",
      "2018-10-06 12:28:29,172 : INFO : EPOCH 2 - PROGRESS: at 95.63% examples, 189837 words/s, in_qsize 8, out_qsize 0\n",
      "2018-10-06 12:28:30,206 : INFO : EPOCH 2 - PROGRESS: at 97.74% examples, 189621 words/s, in_qsize 7, out_qsize 0\n",
      "2018-10-06 12:28:31,315 : INFO : EPOCH 2 - PROGRESS: at 99.58% examples, 188483 words/s, in_qsize 6, out_qsize 0\n",
      "2018-10-06 12:28:31,386 : INFO : worker thread finished; awaiting finish of 3 more threads\n",
      "2018-10-06 12:28:31,411 : INFO : worker thread finished; awaiting finish of 2 more threads\n",
      "2018-10-06 12:28:31,520 : INFO : worker thread finished; awaiting finish of 1 more threads\n",
      "2018-10-06 12:28:31,529 : INFO : worker thread finished; awaiting finish of 0 more threads\n",
      "2018-10-06 12:28:31,532 : INFO : EPOCH - 2 : training on 12084660 raw words (8817389 effective words) took 46.8s, 188428 effective words/s\n",
      "2018-10-06 12:28:32,885 : INFO : EPOCH 3 - PROGRESS: at 2.36% examples, 205063 words/s, in_qsize 7, out_qsize 0\n",
      "2018-10-06 12:28:33,926 : INFO : EPOCH 3 - PROGRESS: at 4.19% examples, 181048 words/s, in_qsize 7, out_qsize 0\n",
      "2018-10-06 12:28:34,974 : INFO : EPOCH 3 - PROGRESS: at 6.26% examples, 177613 words/s, in_qsize 7, out_qsize 0\n",
      "2018-10-06 12:28:35,975 : INFO : EPOCH 3 - PROGRESS: at 8.29% examples, 176508 words/s, in_qsize 8, out_qsize 0\n",
      "2018-10-06 12:28:36,989 : INFO : EPOCH 3 - PROGRESS: at 10.56% examples, 180758 words/s, in_qsize 7, out_qsize 0\n",
      "2018-10-06 12:28:38,035 : INFO : EPOCH 3 - PROGRESS: at 12.15% examples, 172321 words/s, in_qsize 8, out_qsize 0\n",
      "2018-10-06 12:28:39,061 : INFO : EPOCH 3 - PROGRESS: at 14.21% examples, 172630 words/s, in_qsize 6, out_qsize 1\n",
      "2018-10-06 12:28:40,092 : INFO : EPOCH 3 - PROGRESS: at 16.14% examples, 171984 words/s, in_qsize 7, out_qsize 0\n",
      "2018-10-06 12:28:41,148 : INFO : EPOCH 3 - PROGRESS: at 18.67% examples, 176148 words/s, in_qsize 6, out_qsize 1\n",
      "2018-10-06 12:28:42,185 : INFO : EPOCH 3 - PROGRESS: at 21.13% examples, 179317 words/s, in_qsize 7, out_qsize 0\n",
      "2018-10-06 12:28:43,187 : INFO : EPOCH 3 - PROGRESS: at 23.53% examples, 181769 words/s, in_qsize 7, out_qsize 0\n",
      "2018-10-06 12:28:44,211 : INFO : EPOCH 3 - PROGRESS: at 25.74% examples, 182907 words/s, in_qsize 7, out_qsize 0\n",
      "2018-10-06 12:28:45,232 : INFO : EPOCH 3 - PROGRESS: at 27.97% examples, 183441 words/s, in_qsize 7, out_qsize 0\n",
      "2018-10-06 12:28:46,290 : INFO : EPOCH 3 - PROGRESS: at 29.98% examples, 182422 words/s, in_qsize 8, out_qsize 0\n",
      "2018-10-06 12:28:47,334 : INFO : EPOCH 3 - PROGRESS: at 32.15% examples, 182582 words/s, in_qsize 8, out_qsize 0\n",
      "2018-10-06 12:28:48,379 : INFO : EPOCH 3 - PROGRESS: at 34.12% examples, 181423 words/s, in_qsize 7, out_qsize 0\n",
      "2018-10-06 12:28:49,420 : INFO : EPOCH 3 - PROGRESS: at 35.65% examples, 178412 words/s, in_qsize 6, out_qsize 1\n",
      "2018-10-06 12:28:50,428 : INFO : EPOCH 3 - PROGRESS: at 37.44% examples, 177587 words/s, in_qsize 7, out_qsize 0\n",
      "2018-10-06 12:28:51,537 : INFO : EPOCH 3 - PROGRESS: at 39.40% examples, 176691 words/s, in_qsize 7, out_qsize 0\n",
      "2018-10-06 12:28:52,590 : INFO : EPOCH 3 - PROGRESS: at 40.94% examples, 174281 words/s, in_qsize 7, out_qsize 1\n",
      "2018-10-06 12:28:53,617 : INFO : EPOCH 3 - PROGRESS: at 42.89% examples, 173960 words/s, in_qsize 7, out_qsize 0\n",
      "2018-10-06 12:28:54,641 : INFO : EPOCH 3 - PROGRESS: at 44.92% examples, 173981 words/s, in_qsize 8, out_qsize 0\n",
      "2018-10-06 12:28:55,676 : INFO : EPOCH 3 - PROGRESS: at 47.10% examples, 174846 words/s, in_qsize 7, out_qsize 0\n",
      "2018-10-06 12:28:56,711 : INFO : EPOCH 3 - PROGRESS: at 49.09% examples, 174512 words/s, in_qsize 7, out_qsize 0\n",
      "2018-10-06 12:28:57,716 : INFO : EPOCH 3 - PROGRESS: at 50.98% examples, 174117 words/s, in_qsize 7, out_qsize 0\n",
      "2018-10-06 12:28:58,742 : INFO : EPOCH 3 - PROGRESS: at 53.20% examples, 174671 words/s, in_qsize 7, out_qsize 0\n",
      "2018-10-06 12:28:59,824 : INFO : EPOCH 3 - PROGRESS: at 55.04% examples, 173840 words/s, in_qsize 7, out_qsize 0\n",
      "2018-10-06 12:29:00,832 : INFO : EPOCH 3 - PROGRESS: at 56.90% examples, 173502 words/s, in_qsize 7, out_qsize 0\n",
      "2018-10-06 12:29:01,863 : INFO : EPOCH 3 - PROGRESS: at 59.11% examples, 174250 words/s, in_qsize 8, out_qsize 0\n",
      "2018-10-06 12:29:02,873 : INFO : EPOCH 3 - PROGRESS: at 61.02% examples, 173896 words/s, in_qsize 7, out_qsize 0\n",
      "2018-10-06 12:29:03,900 : INFO : EPOCH 3 - PROGRESS: at 62.81% examples, 173445 words/s, in_qsize 8, out_qsize 0\n",
      "2018-10-06 12:29:04,967 : INFO : EPOCH 3 - PROGRESS: at 64.91% examples, 173481 words/s, in_qsize 8, out_qsize 0\n",
      "2018-10-06 12:29:05,991 : INFO : EPOCH 3 - PROGRESS: at 67.04% examples, 173704 words/s, in_qsize 8, out_qsize 0\n",
      "2018-10-06 12:29:06,991 : INFO : EPOCH 3 - PROGRESS: at 68.94% examples, 173471 words/s, in_qsize 5, out_qsize 1\n"
     ]
    },
    {
     "name": "stderr",
     "output_type": "stream",
     "text": [
      "2018-10-06 12:29:08,036 : INFO : EPOCH 3 - PROGRESS: at 71.19% examples, 173820 words/s, in_qsize 8, out_qsize 0\n",
      "2018-10-06 12:29:09,087 : INFO : EPOCH 3 - PROGRESS: at 73.32% examples, 173908 words/s, in_qsize 7, out_qsize 0\n",
      "2018-10-06 12:29:10,113 : INFO : EPOCH 3 - PROGRESS: at 75.50% examples, 174292 words/s, in_qsize 7, out_qsize 0\n",
      "2018-10-06 12:29:11,185 : INFO : EPOCH 3 - PROGRESS: at 77.92% examples, 175009 words/s, in_qsize 8, out_qsize 0\n",
      "2018-10-06 12:29:12,209 : INFO : EPOCH 3 - PROGRESS: at 80.30% examples, 175519 words/s, in_qsize 8, out_qsize 0\n",
      "2018-10-06 12:29:13,217 : INFO : EPOCH 3 - PROGRESS: at 82.47% examples, 175927 words/s, in_qsize 7, out_qsize 0\n",
      "2018-10-06 12:29:14,249 : INFO : EPOCH 3 - PROGRESS: at 84.71% examples, 176389 words/s, in_qsize 8, out_qsize 0\n",
      "2018-10-06 12:29:15,251 : INFO : EPOCH 3 - PROGRESS: at 86.93% examples, 176619 words/s, in_qsize 7, out_qsize 0\n",
      "2018-10-06 12:29:16,263 : INFO : EPOCH 3 - PROGRESS: at 88.85% examples, 176303 words/s, in_qsize 8, out_qsize 0\n",
      "2018-10-06 12:29:17,287 : INFO : EPOCH 3 - PROGRESS: at 90.83% examples, 176285 words/s, in_qsize 8, out_qsize 0\n",
      "2018-10-06 12:29:18,322 : INFO : EPOCH 3 - PROGRESS: at 92.94% examples, 176353 words/s, in_qsize 7, out_qsize 0\n",
      "2018-10-06 12:29:19,371 : INFO : EPOCH 3 - PROGRESS: at 95.09% examples, 176503 words/s, in_qsize 7, out_qsize 0\n",
      "2018-10-06 12:29:20,392 : INFO : EPOCH 3 - PROGRESS: at 97.47% examples, 177209 words/s, in_qsize 7, out_qsize 0\n",
      "2018-10-06 12:29:21,461 : INFO : EPOCH 3 - PROGRESS: at 99.32% examples, 176565 words/s, in_qsize 7, out_qsize 0\n",
      "2018-10-06 12:29:21,683 : INFO : worker thread finished; awaiting finish of 3 more threads\n",
      "2018-10-06 12:29:21,710 : INFO : worker thread finished; awaiting finish of 2 more threads\n",
      "2018-10-06 12:29:21,738 : INFO : worker thread finished; awaiting finish of 1 more threads\n",
      "2018-10-06 12:29:21,779 : INFO : worker thread finished; awaiting finish of 0 more threads\n",
      "2018-10-06 12:29:21,787 : INFO : EPOCH - 3 : training on 12084660 raw words (8815720 effective words) took 49.9s, 176606 effective words/s\n",
      "2018-10-06 12:29:23,341 : INFO : EPOCH 4 - PROGRESS: at 1.95% examples, 164555 words/s, in_qsize 8, out_qsize 2\n",
      "2018-10-06 12:29:24,345 : INFO : EPOCH 4 - PROGRESS: at 3.37% examples, 146545 words/s, in_qsize 7, out_qsize 0\n",
      "2018-10-06 12:29:25,464 : INFO : EPOCH 4 - PROGRESS: at 5.12% examples, 142388 words/s, in_qsize 8, out_qsize 0\n",
      "2018-10-06 12:29:26,475 : INFO : EPOCH 4 - PROGRESS: at 7.27% examples, 152594 words/s, in_qsize 8, out_qsize 0\n",
      "2018-10-06 12:29:27,495 : INFO : EPOCH 4 - PROGRESS: at 9.28% examples, 155865 words/s, in_qsize 7, out_qsize 0\n",
      "2018-10-06 12:29:28,522 : INFO : EPOCH 4 - PROGRESS: at 11.07% examples, 155551 words/s, in_qsize 8, out_qsize 0\n",
      "2018-10-06 12:29:29,584 : INFO : EPOCH 4 - PROGRESS: at 12.86% examples, 153634 words/s, in_qsize 7, out_qsize 0\n",
      "2018-10-06 12:29:30,620 : INFO : EPOCH 4 - PROGRESS: at 14.71% examples, 154291 words/s, in_qsize 8, out_qsize 0\n",
      "2018-10-06 12:29:31,654 : INFO : EPOCH 4 - PROGRESS: at 16.41% examples, 153448 words/s, in_qsize 7, out_qsize 0\n",
      "2018-10-06 12:29:32,709 : INFO : EPOCH 4 - PROGRESS: at 18.51% examples, 155642 words/s, in_qsize 6, out_qsize 1\n",
      "2018-10-06 12:29:33,736 : INFO : EPOCH 4 - PROGRESS: at 20.69% examples, 158558 words/s, in_qsize 8, out_qsize 0\n",
      "2018-10-06 12:29:34,747 : INFO : EPOCH 4 - PROGRESS: at 22.73% examples, 159451 words/s, in_qsize 7, out_qsize 0\n",
      "2018-10-06 12:29:35,771 : INFO : EPOCH 4 - PROGRESS: at 25.00% examples, 162776 words/s, in_qsize 6, out_qsize 1\n",
      "2018-10-06 12:29:36,780 : INFO : EPOCH 4 - PROGRESS: at 27.25% examples, 164832 words/s, in_qsize 7, out_qsize 0\n",
      "2018-10-06 12:29:37,816 : INFO : EPOCH 4 - PROGRESS: at 29.23% examples, 165333 words/s, in_qsize 7, out_qsize 0\n",
      "2018-10-06 12:29:38,822 : INFO : EPOCH 4 - PROGRESS: at 31.46% examples, 166991 words/s, in_qsize 8, out_qsize 0\n",
      "2018-10-06 12:29:39,869 : INFO : EPOCH 4 - PROGRESS: at 33.61% examples, 168028 words/s, in_qsize 7, out_qsize 0\n",
      "2018-10-06 12:29:40,876 : INFO : EPOCH 4 - PROGRESS: at 35.63% examples, 168563 words/s, in_qsize 8, out_qsize 0\n",
      "2018-10-06 12:29:41,902 : INFO : EPOCH 4 - PROGRESS: at 37.52% examples, 168482 words/s, in_qsize 8, out_qsize 1\n",
      "2018-10-06 12:29:42,914 : INFO : EPOCH 4 - PROGRESS: at 39.75% examples, 169939 words/s, in_qsize 7, out_qsize 0\n",
      "2018-10-06 12:29:43,963 : INFO : EPOCH 4 - PROGRESS: at 41.86% examples, 170318 words/s, in_qsize 7, out_qsize 0\n",
      "2018-10-06 12:29:44,968 : INFO : EPOCH 4 - PROGRESS: at 44.04% examples, 171275 words/s, in_qsize 7, out_qsize 0\n",
      "2018-10-06 12:29:46,063 : INFO : EPOCH 4 - PROGRESS: at 46.46% examples, 172723 words/s, in_qsize 7, out_qsize 1\n",
      "2018-10-06 12:29:47,065 : INFO : EPOCH 4 - PROGRESS: at 48.75% examples, 173843 words/s, in_qsize 7, out_qsize 0\n",
      "2018-10-06 12:29:48,066 : INFO : EPOCH 4 - PROGRESS: at 50.98% examples, 174638 words/s, in_qsize 7, out_qsize 0\n",
      "2018-10-06 12:29:49,073 : INFO : EPOCH 4 - PROGRESS: at 53.28% examples, 175572 words/s, in_qsize 7, out_qsize 0\n",
      "2018-10-06 12:29:50,132 : INFO : EPOCH 4 - PROGRESS: at 55.35% examples, 175611 words/s, in_qsize 8, out_qsize 0\n",
      "2018-10-06 12:29:51,149 : INFO : EPOCH 4 - PROGRESS: at 57.48% examples, 175903 words/s, in_qsize 7, out_qsize 0\n",
      "2018-10-06 12:29:52,157 : INFO : EPOCH 4 - PROGRESS: at 59.71% examples, 176703 words/s, in_qsize 7, out_qsize 0\n",
      "2018-10-06 12:29:53,157 : INFO : EPOCH 4 - PROGRESS: at 61.96% examples, 177471 words/s, in_qsize 8, out_qsize 0\n",
      "2018-10-06 12:29:54,271 : INFO : EPOCH 4 - PROGRESS: at 64.44% examples, 178240 words/s, in_qsize 8, out_qsize 0\n",
      "2018-10-06 12:29:55,279 : INFO : EPOCH 4 - PROGRESS: at 66.86% examples, 179297 words/s, in_qsize 8, out_qsize 0\n",
      "2018-10-06 12:29:56,345 : INFO : EPOCH 4 - PROGRESS: at 69.45% examples, 180205 words/s, in_qsize 7, out_qsize 0\n",
      "2018-10-06 12:29:57,404 : INFO : EPOCH 4 - PROGRESS: at 71.85% examples, 180689 words/s, in_qsize 8, out_qsize 0\n",
      "2018-10-06 12:29:58,408 : INFO : EPOCH 4 - PROGRESS: at 73.89% examples, 180625 words/s, in_qsize 8, out_qsize 0\n",
      "2018-10-06 12:29:59,491 : INFO : EPOCH 4 - PROGRESS: at 76.31% examples, 181158 words/s, in_qsize 8, out_qsize 0\n",
      "2018-10-06 12:30:00,580 : INFO : EPOCH 4 - PROGRESS: at 78.72% examples, 181421 words/s, in_qsize 7, out_qsize 0\n",
      "2018-10-06 12:30:01,641 : INFO : EPOCH 4 - PROGRESS: at 81.27% examples, 182153 words/s, in_qsize 6, out_qsize 2\n",
      "2018-10-06 12:30:02,645 : INFO : EPOCH 4 - PROGRESS: at 83.69% examples, 182959 words/s, in_qsize 7, out_qsize 0\n",
      "2018-10-06 12:30:03,686 : INFO : EPOCH 4 - PROGRESS: at 86.11% examples, 183390 words/s, in_qsize 7, out_qsize 0\n",
      "2018-10-06 12:30:04,702 : INFO : EPOCH 4 - PROGRESS: at 88.32% examples, 183567 words/s, in_qsize 7, out_qsize 0\n",
      "2018-10-06 12:30:05,712 : INFO : EPOCH 4 - PROGRESS: at 90.60% examples, 183914 words/s, in_qsize 7, out_qsize 0\n",
      "2018-10-06 12:30:06,762 : INFO : EPOCH 4 - PROGRESS: at 92.86% examples, 184079 words/s, in_qsize 7, out_qsize 0\n",
      "2018-10-06 12:30:07,802 : INFO : EPOCH 4 - PROGRESS: at 95.24% examples, 184567 words/s, in_qsize 6, out_qsize 1\n",
      "2018-10-06 12:30:08,832 : INFO : EPOCH 4 - PROGRESS: at 97.47% examples, 184775 words/s, in_qsize 7, out_qsize 0\n",
      "2018-10-06 12:30:09,858 : INFO : EPOCH 4 - PROGRESS: at 99.73% examples, 184857 words/s, in_qsize 4, out_qsize 0\n",
      "2018-10-06 12:30:09,869 : INFO : worker thread finished; awaiting finish of 3 more threads\n",
      "2018-10-06 12:30:09,885 : INFO : worker thread finished; awaiting finish of 2 more threads\n",
      "2018-10-06 12:30:09,901 : INFO : worker thread finished; awaiting finish of 1 more threads\n",
      "2018-10-06 12:30:09,973 : INFO : worker thread finished; awaiting finish of 0 more threads\n",
      "2018-10-06 12:30:09,985 : INFO : EPOCH - 4 : training on 12084660 raw words (8816258 effective words) took 47.7s, 184865 effective words/s\n",
      "2018-10-06 12:30:11,233 : INFO : EPOCH 5 - PROGRESS: at 2.13% examples, 185495 words/s, in_qsize 7, out_qsize 0\n",
      "2018-10-06 12:30:12,262 : INFO : EPOCH 5 - PROGRESS: at 4.52% examples, 197005 words/s, in_qsize 8, out_qsize 0\n",
      "2018-10-06 12:30:13,264 : INFO : EPOCH 5 - PROGRESS: at 6.87% examples, 198165 words/s, in_qsize 7, out_qsize 0\n",
      "2018-10-06 12:30:14,269 : INFO : EPOCH 5 - PROGRESS: at 9.35% examples, 202213 words/s, in_qsize 7, out_qsize 0\n"
     ]
    },
    {
     "name": "stderr",
     "output_type": "stream",
     "text": [
      "2018-10-06 12:30:15,280 : INFO : EPOCH 5 - PROGRESS: at 11.73% examples, 203471 words/s, in_qsize 7, out_qsize 0\n",
      "2018-10-06 12:30:16,302 : INFO : EPOCH 5 - PROGRESS: at 13.95% examples, 200856 words/s, in_qsize 7, out_qsize 0\n",
      "2018-10-06 12:30:17,342 : INFO : EPOCH 5 - PROGRESS: at 16.14% examples, 198730 words/s, in_qsize 6, out_qsize 1\n",
      "2018-10-06 12:30:18,361 : INFO : EPOCH 5 - PROGRESS: at 18.51% examples, 199207 words/s, in_qsize 7, out_qsize 0\n",
      "2018-10-06 12:30:19,421 : INFO : EPOCH 5 - PROGRESS: at 20.97% examples, 199624 words/s, in_qsize 7, out_qsize 0\n",
      "2018-10-06 12:30:20,442 : INFO : EPOCH 5 - PROGRESS: at 23.31% examples, 199297 words/s, in_qsize 7, out_qsize 0\n",
      "2018-10-06 12:30:21,486 : INFO : EPOCH 5 - PROGRESS: at 25.58% examples, 199252 words/s, in_qsize 8, out_qsize 0\n",
      "2018-10-06 12:30:22,522 : INFO : EPOCH 5 - PROGRESS: at 27.91% examples, 198826 words/s, in_qsize 8, out_qsize 2\n",
      "2018-10-06 12:30:23,560 : INFO : EPOCH 5 - PROGRESS: at 30.17% examples, 198359 words/s, in_qsize 8, out_qsize 0\n",
      "2018-10-06 12:30:24,573 : INFO : EPOCH 5 - PROGRESS: at 32.47% examples, 198776 words/s, in_qsize 7, out_qsize 0\n",
      "2018-10-06 12:30:25,655 : INFO : EPOCH 5 - PROGRESS: at 34.74% examples, 197870 words/s, in_qsize 7, out_qsize 0\n",
      "2018-10-06 12:30:26,670 : INFO : EPOCH 5 - PROGRESS: at 37.14% examples, 198689 words/s, in_qsize 8, out_qsize 0\n",
      "2018-10-06 12:30:27,688 : INFO : EPOCH 5 - PROGRESS: at 39.43% examples, 198987 words/s, in_qsize 7, out_qsize 0\n",
      "2018-10-06 12:30:28,690 : INFO : EPOCH 5 - PROGRESS: at 41.79% examples, 199469 words/s, in_qsize 7, out_qsize 0\n",
      "2018-10-06 12:30:29,699 : INFO : EPOCH 5 - PROGRESS: at 44.57% examples, 201949 words/s, in_qsize 8, out_qsize 0\n",
      "2018-10-06 12:30:30,714 : INFO : EPOCH 5 - PROGRESS: at 47.60% examples, 205234 words/s, in_qsize 8, out_qsize 0\n",
      "2018-10-06 12:30:31,762 : INFO : EPOCH 5 - PROGRESS: at 50.34% examples, 206277 words/s, in_qsize 7, out_qsize 0\n",
      "2018-10-06 12:30:32,776 : INFO : EPOCH 5 - PROGRESS: at 52.73% examples, 206227 words/s, in_qsize 7, out_qsize 0\n",
      "2018-10-06 12:30:33,783 : INFO : EPOCH 5 - PROGRESS: at 55.20% examples, 206886 words/s, in_qsize 8, out_qsize 0\n",
      "2018-10-06 12:30:34,848 : INFO : EPOCH 5 - PROGRESS: at 57.64% examples, 206703 words/s, in_qsize 7, out_qsize 0\n",
      "2018-10-06 12:30:35,876 : INFO : EPOCH 5 - PROGRESS: at 60.34% examples, 207955 words/s, in_qsize 7, out_qsize 0\n",
      "2018-10-06 12:30:36,897 : INFO : EPOCH 5 - PROGRESS: at 62.66% examples, 207773 words/s, in_qsize 7, out_qsize 0\n",
      "2018-10-06 12:30:37,917 : INFO : EPOCH 5 - PROGRESS: at 64.99% examples, 207630 words/s, in_qsize 7, out_qsize 0\n",
      "2018-10-06 12:30:38,977 : INFO : EPOCH 5 - PROGRESS: at 67.83% examples, 208425 words/s, in_qsize 6, out_qsize 1\n",
      "2018-10-06 12:30:40,017 : INFO : EPOCH 5 - PROGRESS: at 70.39% examples, 208633 words/s, in_qsize 7, out_qsize 0\n",
      "2018-10-06 12:30:41,023 : INFO : EPOCH 5 - PROGRESS: at 72.74% examples, 208560 words/s, in_qsize 7, out_qsize 0\n",
      "2018-10-06 12:30:42,059 : INFO : EPOCH 5 - PROGRESS: at 74.91% examples, 207840 words/s, in_qsize 7, out_qsize 0\n",
      "2018-10-06 12:30:43,072 : INFO : EPOCH 5 - PROGRESS: at 77.25% examples, 207775 words/s, in_qsize 7, out_qsize 0\n",
      "2018-10-06 12:30:44,113 : INFO : EPOCH 5 - PROGRESS: at 79.83% examples, 207728 words/s, in_qsize 8, out_qsize 0\n",
      "2018-10-06 12:30:45,114 : INFO : EPOCH 5 - PROGRESS: at 82.30% examples, 208118 words/s, in_qsize 7, out_qsize 0\n",
      "2018-10-06 12:30:46,121 : INFO : EPOCH 5 - PROGRESS: at 83.77% examples, 205895 words/s, in_qsize 7, out_qsize 0\n",
      "2018-10-06 12:30:47,135 : INFO : EPOCH 5 - PROGRESS: at 85.95% examples, 205311 words/s, in_qsize 7, out_qsize 0\n",
      "2018-10-06 12:30:48,135 : INFO : EPOCH 5 - PROGRESS: at 88.41% examples, 205557 words/s, in_qsize 7, out_qsize 0\n",
      "2018-10-06 12:30:49,149 : INFO : EPOCH 5 - PROGRESS: at 90.60% examples, 205163 words/s, in_qsize 8, out_qsize 0\n",
      "2018-10-06 12:30:50,175 : INFO : EPOCH 5 - PROGRESS: at 92.91% examples, 205089 words/s, in_qsize 7, out_qsize 0\n",
      "2018-10-06 12:30:51,228 : INFO : EPOCH 5 - PROGRESS: at 94.66% examples, 203636 words/s, in_qsize 7, out_qsize 0\n",
      "2018-10-06 12:30:52,243 : INFO : EPOCH 5 - PROGRESS: at 95.95% examples, 201430 words/s, in_qsize 8, out_qsize 0\n",
      "2018-10-06 12:30:53,277 : INFO : EPOCH 5 - PROGRESS: at 97.47% examples, 199758 words/s, in_qsize 7, out_qsize 0\n",
      "2018-10-06 12:30:54,308 : INFO : EPOCH 5 - PROGRESS: at 99.32% examples, 198666 words/s, in_qsize 7, out_qsize 0\n",
      "2018-10-06 12:30:54,569 : INFO : worker thread finished; awaiting finish of 3 more threads\n",
      "2018-10-06 12:30:54,577 : INFO : worker thread finished; awaiting finish of 2 more threads\n",
      "2018-10-06 12:30:54,627 : INFO : worker thread finished; awaiting finish of 1 more threads\n",
      "2018-10-06 12:30:54,690 : INFO : worker thread finished; awaiting finish of 0 more threads\n",
      "2018-10-06 12:30:54,694 : INFO : EPOCH - 5 : training on 12084660 raw words (8816891 effective words) took 44.5s, 198278 effective words/s\n",
      "2018-10-06 12:30:56,127 : INFO : EPOCH 6 - PROGRESS: at 1.55% examples, 131465 words/s, in_qsize 8, out_qsize 0\n",
      "2018-10-06 12:30:57,151 : INFO : EPOCH 6 - PROGRESS: at 3.30% examples, 142352 words/s, in_qsize 7, out_qsize 0\n",
      "2018-10-06 12:30:58,158 : INFO : EPOCH 6 - PROGRESS: at 5.04% examples, 144649 words/s, in_qsize 7, out_qsize 0\n",
      "2018-10-06 12:30:59,169 : INFO : EPOCH 6 - PROGRESS: at 7.11% examples, 152787 words/s, in_qsize 8, out_qsize 0\n",
      "2018-10-06 12:31:00,246 : INFO : EPOCH 6 - PROGRESS: at 9.42% examples, 159929 words/s, in_qsize 6, out_qsize 1\n",
      "2018-10-06 12:31:01,285 : INFO : EPOCH 6 - PROGRESS: at 11.55% examples, 163403 words/s, in_qsize 8, out_qsize 0\n",
      "2018-10-06 12:31:02,302 : INFO : EPOCH 6 - PROGRESS: at 13.63% examples, 165223 words/s, in_qsize 8, out_qsize 0\n",
      "2018-10-06 12:31:03,322 : INFO : EPOCH 6 - PROGRESS: at 15.84% examples, 168352 words/s, in_qsize 7, out_qsize 0\n",
      "2018-10-06 12:31:04,356 : INFO : EPOCH 6 - PROGRESS: at 17.27% examples, 162675 words/s, in_qsize 8, out_qsize 0\n",
      "2018-10-06 12:31:05,381 : INFO : EPOCH 6 - PROGRESS: at 19.53% examples, 165810 words/s, in_qsize 7, out_qsize 0\n",
      "2018-10-06 12:31:06,406 : INFO : EPOCH 6 - PROGRESS: at 21.40% examples, 165339 words/s, in_qsize 7, out_qsize 0\n",
      "2018-10-06 12:31:07,406 : INFO : EPOCH 6 - PROGRESS: at 23.53% examples, 167029 words/s, in_qsize 7, out_qsize 0\n",
      "2018-10-06 12:31:08,433 : INFO : EPOCH 6 - PROGRESS: at 25.41% examples, 167063 words/s, in_qsize 7, out_qsize 0\n",
      "2018-10-06 12:31:09,441 : INFO : EPOCH 6 - PROGRESS: at 27.00% examples, 164832 words/s, in_qsize 8, out_qsize 0\n",
      "2018-10-06 12:31:10,461 : INFO : EPOCH 6 - PROGRESS: at 28.83% examples, 164582 words/s, in_qsize 7, out_qsize 0\n",
      "2018-10-06 12:31:11,504 : INFO : EPOCH 6 - PROGRESS: at 30.95% examples, 165463 words/s, in_qsize 7, out_qsize 0\n",
      "2018-10-06 12:31:12,516 : INFO : EPOCH 6 - PROGRESS: at 32.87% examples, 165703 words/s, in_qsize 8, out_qsize 0\n",
      "2018-10-06 12:31:13,530 : INFO : EPOCH 6 - PROGRESS: at 34.74% examples, 165529 words/s, in_qsize 8, out_qsize 0\n",
      "2018-10-06 12:31:14,534 : INFO : EPOCH 6 - PROGRESS: at 38.28% examples, 173184 words/s, in_qsize 8, out_qsize 0\n",
      "2018-10-06 12:31:15,548 : INFO : EPOCH 6 - PROGRESS: at 42.11% examples, 181377 words/s, in_qsize 7, out_qsize 0\n",
      "2018-10-06 12:31:16,562 : INFO : EPOCH 6 - PROGRESS: at 46.08% examples, 189465 words/s, in_qsize 8, out_qsize 0\n",
      "2018-10-06 12:31:17,592 : INFO : EPOCH 6 - PROGRESS: at 49.76% examples, 195143 words/s, in_qsize 8, out_qsize 0\n",
      "2018-10-06 12:31:18,643 : INFO : EPOCH 6 - PROGRESS: at 51.90% examples, 194353 words/s, in_qsize 7, out_qsize 0\n",
      "2018-10-06 12:31:19,687 : INFO : EPOCH 6 - PROGRESS: at 54.08% examples, 194016 words/s, in_qsize 8, out_qsize 0\n",
      "2018-10-06 12:31:20,750 : INFO : EPOCH 6 - PROGRESS: at 56.02% examples, 192716 words/s, in_qsize 7, out_qsize 0\n",
      "2018-10-06 12:31:21,829 : INFO : EPOCH 6 - PROGRESS: at 57.47% examples, 189776 words/s, in_qsize 7, out_qsize 0\n",
      "2018-10-06 12:31:22,859 : INFO : EPOCH 6 - PROGRESS: at 58.68% examples, 186620 words/s, in_qsize 7, out_qsize 0\n",
      "2018-10-06 12:31:23,860 : INFO : EPOCH 6 - PROGRESS: at 60.43% examples, 185621 words/s, in_qsize 8, out_qsize 0\n",
      "2018-10-06 12:31:24,868 : INFO : EPOCH 6 - PROGRESS: at 62.12% examples, 184387 words/s, in_qsize 8, out_qsize 0\n",
      "2018-10-06 12:31:25,918 : INFO : EPOCH 6 - PROGRESS: at 63.80% examples, 182992 words/s, in_qsize 7, out_qsize 0\n"
     ]
    },
    {
     "name": "stderr",
     "output_type": "stream",
     "text": [
      "2018-10-06 12:31:27,025 : INFO : EPOCH 6 - PROGRESS: at 65.16% examples, 180464 words/s, in_qsize 7, out_qsize 0\n",
      "2018-10-06 12:31:28,088 : INFO : EPOCH 6 - PROGRESS: at 66.93% examples, 179395 words/s, in_qsize 8, out_qsize 0\n",
      "2018-10-06 12:31:29,107 : INFO : EPOCH 6 - PROGRESS: at 68.55% examples, 178049 words/s, in_qsize 7, out_qsize 0\n",
      "2018-10-06 12:31:30,175 : INFO : EPOCH 6 - PROGRESS: at 70.22% examples, 176741 words/s, in_qsize 7, out_qsize 0\n",
      "2018-10-06 12:31:31,235 : INFO : EPOCH 6 - PROGRESS: at 72.08% examples, 176107 words/s, in_qsize 7, out_qsize 0\n",
      "2018-10-06 12:31:32,294 : INFO : EPOCH 6 - PROGRESS: at 73.81% examples, 175131 words/s, in_qsize 8, out_qsize 0\n",
      "2018-10-06 12:31:33,317 : INFO : EPOCH 6 - PROGRESS: at 75.33% examples, 173999 words/s, in_qsize 8, out_qsize 0\n",
      "2018-10-06 12:31:34,401 : INFO : EPOCH 6 - PROGRESS: at 77.57% examples, 174314 words/s, in_qsize 7, out_qsize 0\n",
      "2018-10-06 12:31:35,453 : INFO : EPOCH 6 - PROGRESS: at 79.91% examples, 174545 words/s, in_qsize 7, out_qsize 0\n",
      "2018-10-06 12:31:36,549 : INFO : EPOCH 6 - PROGRESS: at 82.22% examples, 174934 words/s, in_qsize 8, out_qsize 0\n",
      "2018-10-06 12:31:37,553 : INFO : EPOCH 6 - PROGRESS: at 83.52% examples, 173502 words/s, in_qsize 7, out_qsize 0\n",
      "2018-10-06 12:31:38,588 : INFO : EPOCH 6 - PROGRESS: at 84.96% examples, 172356 words/s, in_qsize 7, out_qsize 0\n",
      "2018-10-06 12:31:39,599 : INFO : EPOCH 6 - PROGRESS: at 86.52% examples, 171342 words/s, in_qsize 7, out_qsize 1\n",
      "2018-10-06 12:31:40,600 : INFO : EPOCH 6 - PROGRESS: at 88.23% examples, 170888 words/s, in_qsize 7, out_qsize 0\n",
      "2018-10-06 12:31:41,620 : INFO : EPOCH 6 - PROGRESS: at 89.69% examples, 169900 words/s, in_qsize 8, out_qsize 0\n",
      "2018-10-06 12:31:42,622 : INFO : EPOCH 6 - PROGRESS: at 91.08% examples, 168903 words/s, in_qsize 7, out_qsize 0\n",
      "2018-10-06 12:31:43,694 : INFO : EPOCH 6 - PROGRESS: at 92.51% examples, 167820 words/s, in_qsize 8, out_qsize 0\n",
      "2018-10-06 12:31:44,729 : INFO : EPOCH 6 - PROGRESS: at 93.71% examples, 166472 words/s, in_qsize 7, out_qsize 0\n",
      "2018-10-06 12:31:45,782 : INFO : EPOCH 6 - PROGRESS: at 95.17% examples, 165554 words/s, in_qsize 8, out_qsize 0\n",
      "2018-10-06 12:31:46,844 : INFO : EPOCH 6 - PROGRESS: at 96.73% examples, 164915 words/s, in_qsize 7, out_qsize 0\n",
      "2018-10-06 12:31:47,882 : INFO : EPOCH 6 - PROGRESS: at 98.16% examples, 163972 words/s, in_qsize 8, out_qsize 0\n",
      "2018-10-06 12:31:48,774 : INFO : worker thread finished; awaiting finish of 3 more threads\n",
      "2018-10-06 12:31:48,797 : INFO : worker thread finished; awaiting finish of 2 more threads\n",
      "2018-10-06 12:31:48,804 : INFO : worker thread finished; awaiting finish of 1 more threads\n",
      "2018-10-06 12:31:48,831 : INFO : worker thread finished; awaiting finish of 0 more threads\n",
      "2018-10-06 12:31:48,835 : INFO : EPOCH - 6 : training on 12084660 raw words (8816216 effective words) took 53.7s, 164043 effective words/s\n",
      "2018-10-06 12:31:50,144 : INFO : EPOCH 7 - PROGRESS: at 1.86% examples, 164303 words/s, in_qsize 7, out_qsize 0\n",
      "2018-10-06 12:31:51,161 : INFO : EPOCH 7 - PROGRESS: at 3.67% examples, 162790 words/s, in_qsize 7, out_qsize 0\n",
      "2018-10-06 12:31:52,268 : INFO : EPOCH 7 - PROGRESS: at 5.44% examples, 153211 words/s, in_qsize 7, out_qsize 0\n",
      "2018-10-06 12:31:53,279 : INFO : EPOCH 7 - PROGRESS: at 7.04% examples, 148878 words/s, in_qsize 7, out_qsize 0\n",
      "2018-10-06 12:31:54,335 : INFO : EPOCH 7 - PROGRESS: at 8.68% examples, 146303 words/s, in_qsize 8, out_qsize 0\n",
      "2018-10-06 12:31:55,359 : INFO : EPOCH 7 - PROGRESS: at 10.56% examples, 148766 words/s, in_qsize 7, out_qsize 0\n",
      "2018-10-06 12:31:56,416 : INFO : EPOCH 7 - PROGRESS: at 12.41% examples, 148976 words/s, in_qsize 8, out_qsize 0\n",
      "2018-10-06 12:31:57,437 : INFO : EPOCH 7 - PROGRESS: at 14.47% examples, 152143 words/s, in_qsize 6, out_qsize 1\n",
      "2018-10-06 12:31:58,475 : INFO : EPOCH 7 - PROGRESS: at 15.93% examples, 149187 words/s, in_qsize 8, out_qsize 0\n",
      "2018-10-06 12:31:59,505 : INFO : EPOCH 7 - PROGRESS: at 17.83% examples, 150229 words/s, in_qsize 8, out_qsize 0\n",
      "2018-10-06 12:32:00,567 : INFO : EPOCH 7 - PROGRESS: at 19.68% examples, 150561 words/s, in_qsize 6, out_qsize 1\n",
      "2018-10-06 12:32:01,652 : INFO : EPOCH 7 - PROGRESS: at 21.56% examples, 150664 words/s, in_qsize 7, out_qsize 0\n",
      "2018-10-06 12:32:02,691 : INFO : EPOCH 7 - PROGRESS: at 23.46% examples, 151263 words/s, in_qsize 7, out_qsize 0\n",
      "2018-10-06 12:32:03,713 : INFO : EPOCH 7 - PROGRESS: at 25.24% examples, 151963 words/s, in_qsize 7, out_qsize 0\n",
      "2018-10-06 12:32:04,766 : INFO : EPOCH 7 - PROGRESS: at 27.33% examples, 153221 words/s, in_qsize 8, out_qsize 0\n",
      "2018-10-06 12:32:05,774 : INFO : EPOCH 7 - PROGRESS: at 28.89% examples, 152520 words/s, in_qsize 8, out_qsize 0\n",
      "2018-10-06 12:32:06,874 : INFO : EPOCH 7 - PROGRESS: at 30.48% examples, 150752 words/s, in_qsize 8, out_qsize 0\n",
      "2018-10-06 12:32:07,875 : INFO : EPOCH 7 - PROGRESS: at 31.53% examples, 147642 words/s, in_qsize 8, out_qsize 0\n",
      "2018-10-06 12:32:08,906 : INFO : EPOCH 7 - PROGRESS: at 32.72% examples, 145357 words/s, in_qsize 7, out_qsize 0\n",
      "2018-10-06 12:32:09,941 : INFO : EPOCH 7 - PROGRESS: at 33.69% examples, 142283 words/s, in_qsize 6, out_qsize 1\n",
      "2018-10-06 12:32:10,951 : INFO : EPOCH 7 - PROGRESS: at 34.97% examples, 140921 words/s, in_qsize 7, out_qsize 0\n",
      "2018-10-06 12:32:11,966 : INFO : EPOCH 7 - PROGRESS: at 36.40% examples, 139981 words/s, in_qsize 7, out_qsize 0\n",
      "2018-10-06 12:32:12,973 : INFO : EPOCH 7 - PROGRESS: at 37.28% examples, 137666 words/s, in_qsize 8, out_qsize 0\n",
      "2018-10-06 12:32:14,057 : INFO : EPOCH 7 - PROGRESS: at 38.27% examples, 135136 words/s, in_qsize 8, out_qsize 0\n",
      "2018-10-06 12:32:15,125 : INFO : EPOCH 7 - PROGRESS: at 39.19% examples, 132878 words/s, in_qsize 7, out_qsize 0\n",
      "2018-10-06 12:32:16,194 : INFO : EPOCH 7 - PROGRESS: at 40.20% examples, 131048 words/s, in_qsize 8, out_qsize 0\n",
      "2018-10-06 12:32:17,228 : INFO : EPOCH 7 - PROGRESS: at 41.04% examples, 128796 words/s, in_qsize 8, out_qsize 0\n",
      "2018-10-06 12:32:18,287 : INFO : EPOCH 7 - PROGRESS: at 41.94% examples, 126826 words/s, in_qsize 8, out_qsize 0\n",
      "2018-10-06 12:32:19,354 : INFO : EPOCH 7 - PROGRESS: at 42.96% examples, 125425 words/s, in_qsize 8, out_qsize 0\n",
      "2018-10-06 12:32:20,482 : INFO : EPOCH 7 - PROGRESS: at 44.11% examples, 124104 words/s, in_qsize 7, out_qsize 1\n",
      "2018-10-06 12:32:21,516 : INFO : EPOCH 7 - PROGRESS: at 45.29% examples, 123448 words/s, in_qsize 8, out_qsize 0\n",
      "2018-10-06 12:32:22,579 : INFO : EPOCH 7 - PROGRESS: at 46.31% examples, 122310 words/s, in_qsize 8, out_qsize 0\n",
      "2018-10-06 12:32:23,610 : INFO : EPOCH 7 - PROGRESS: at 47.34% examples, 121358 words/s, in_qsize 8, out_qsize 0\n",
      "2018-10-06 12:32:24,696 : INFO : EPOCH 7 - PROGRESS: at 48.60% examples, 120674 words/s, in_qsize 7, out_qsize 0\n",
      "2018-10-06 12:32:25,719 : INFO : EPOCH 7 - PROGRESS: at 50.01% examples, 120641 words/s, in_qsize 7, out_qsize 1\n",
      "2018-10-06 12:32:26,856 : INFO : EPOCH 7 - PROGRESS: at 51.39% examples, 120235 words/s, in_qsize 6, out_qsize 1\n",
      "2018-10-06 12:32:27,861 : INFO : EPOCH 7 - PROGRESS: at 52.56% examples, 119720 words/s, in_qsize 8, out_qsize 0\n",
      "2018-10-06 12:32:28,900 : INFO : EPOCH 7 - PROGRESS: at 53.27% examples, 118218 words/s, in_qsize 7, out_qsize 0\n",
      "2018-10-06 12:32:30,014 : INFO : EPOCH 7 - PROGRESS: at 54.16% examples, 116939 words/s, in_qsize 7, out_qsize 0\n",
      "2018-10-06 12:32:31,068 : INFO : EPOCH 7 - PROGRESS: at 54.79% examples, 115380 words/s, in_qsize 7, out_qsize 0\n",
      "2018-10-06 12:32:32,081 : INFO : EPOCH 7 - PROGRESS: at 55.79% examples, 114660 words/s, in_qsize 8, out_qsize 0\n",
      "2018-10-06 12:32:33,111 : INFO : EPOCH 7 - PROGRESS: at 56.50% examples, 113431 words/s, in_qsize 7, out_qsize 0\n",
      "2018-10-06 12:32:34,205 : INFO : EPOCH 7 - PROGRESS: at 57.38% examples, 112447 words/s, in_qsize 7, out_qsize 0\n",
      "2018-10-06 12:32:35,220 : INFO : EPOCH 7 - PROGRESS: at 58.19% examples, 111531 words/s, in_qsize 8, out_qsize 0\n",
      "2018-10-06 12:32:36,227 : INFO : EPOCH 7 - PROGRESS: at 59.04% examples, 110825 words/s, in_qsize 8, out_qsize 0\n",
      "2018-10-06 12:32:37,419 : INFO : EPOCH 7 - PROGRESS: at 60.10% examples, 110022 words/s, in_qsize 8, out_qsize 0\n",
      "2018-10-06 12:32:38,420 : INFO : EPOCH 7 - PROGRESS: at 61.17% examples, 109691 words/s, in_qsize 7, out_qsize 0\n",
      "2018-10-06 12:32:39,444 : INFO : EPOCH 7 - PROGRESS: at 62.35% examples, 109588 words/s, in_qsize 7, out_qsize 0\n"
     ]
    },
    {
     "name": "stderr",
     "output_type": "stream",
     "text": [
      "2018-10-06 12:32:40,551 : INFO : EPOCH 7 - PROGRESS: at 63.22% examples, 108761 words/s, in_qsize 8, out_qsize 0\n",
      "2018-10-06 12:32:41,598 : INFO : EPOCH 7 - PROGRESS: at 64.37% examples, 108508 words/s, in_qsize 8, out_qsize 0\n",
      "2018-10-06 12:32:42,676 : INFO : EPOCH 7 - PROGRESS: at 65.41% examples, 108058 words/s, in_qsize 7, out_qsize 0\n",
      "2018-10-06 12:32:43,681 : INFO : EPOCH 7 - PROGRESS: at 66.62% examples, 108025 words/s, in_qsize 7, out_qsize 0\n",
      "2018-10-06 12:32:44,711 : INFO : EPOCH 7 - PROGRESS: at 67.64% examples, 107570 words/s, in_qsize 8, out_qsize 0\n",
      "2018-10-06 12:32:45,751 : INFO : EPOCH 7 - PROGRESS: at 69.27% examples, 108132 words/s, in_qsize 8, out_qsize 0\n",
      "2018-10-06 12:32:46,779 : INFO : EPOCH 7 - PROGRESS: at 71.51% examples, 109563 words/s, in_qsize 8, out_qsize 0\n",
      "2018-10-06 12:32:47,810 : INFO : EPOCH 7 - PROGRESS: at 73.57% examples, 110682 words/s, in_qsize 7, out_qsize 0\n",
      "2018-10-06 12:32:48,855 : INFO : EPOCH 7 - PROGRESS: at 75.93% examples, 112229 words/s, in_qsize 7, out_qsize 0\n",
      "2018-10-06 12:32:49,868 : INFO : EPOCH 7 - PROGRESS: at 78.44% examples, 114013 words/s, in_qsize 8, out_qsize 0\n",
      "2018-10-06 12:32:50,891 : INFO : EPOCH 7 - PROGRESS: at 79.66% examples, 113745 words/s, in_qsize 8, out_qsize 0\n",
      "2018-10-06 12:32:51,916 : INFO : EPOCH 7 - PROGRESS: at 80.62% examples, 113246 words/s, in_qsize 7, out_qsize 0\n",
      "2018-10-06 12:32:52,927 : INFO : EPOCH 7 - PROGRESS: at 81.51% examples, 112684 words/s, in_qsize 8, out_qsize 0\n",
      "2018-10-06 12:32:53,931 : INFO : EPOCH 7 - PROGRESS: at 82.93% examples, 112934 words/s, in_qsize 8, out_qsize 0\n",
      "2018-10-06 12:32:54,951 : INFO : EPOCH 7 - PROGRESS: at 84.09% examples, 112719 words/s, in_qsize 8, out_qsize 0\n",
      "2018-10-06 12:32:55,982 : INFO : EPOCH 7 - PROGRESS: at 85.35% examples, 112598 words/s, in_qsize 7, out_qsize 0\n",
      "2018-10-06 12:32:57,012 : INFO : EPOCH 7 - PROGRESS: at 86.27% examples, 112043 words/s, in_qsize 7, out_qsize 0\n",
      "2018-10-06 12:32:58,040 : INFO : EPOCH 7 - PROGRESS: at 87.76% examples, 112254 words/s, in_qsize 7, out_qsize 0\n",
      "2018-10-06 12:32:59,101 : INFO : EPOCH 7 - PROGRESS: at 89.00% examples, 112086 words/s, in_qsize 8, out_qsize 0\n",
      "2018-10-06 12:33:00,157 : INFO : EPOCH 7 - PROGRESS: at 90.17% examples, 111932 words/s, in_qsize 7, out_qsize 0\n",
      "2018-10-06 12:33:01,199 : INFO : EPOCH 7 - PROGRESS: at 91.42% examples, 111806 words/s, in_qsize 7, out_qsize 0\n",
      "2018-10-06 12:33:02,255 : INFO : EPOCH 7 - PROGRESS: at 92.61% examples, 111660 words/s, in_qsize 7, out_qsize 0\n",
      "2018-10-06 12:33:03,261 : INFO : EPOCH 7 - PROGRESS: at 93.75% examples, 111492 words/s, in_qsize 8, out_qsize 0\n",
      "2018-10-06 12:33:04,292 : INFO : EPOCH 7 - PROGRESS: at 94.57% examples, 110998 words/s, in_qsize 7, out_qsize 0\n",
      "2018-10-06 12:33:05,317 : INFO : EPOCH 7 - PROGRESS: at 95.71% examples, 110812 words/s, in_qsize 8, out_qsize 0\n",
      "2018-10-06 12:33:06,338 : INFO : EPOCH 7 - PROGRESS: at 96.81% examples, 110655 words/s, in_qsize 8, out_qsize 0\n",
      "2018-10-06 12:33:07,427 : INFO : EPOCH 7 - PROGRESS: at 98.25% examples, 110669 words/s, in_qsize 7, out_qsize 0\n",
      "2018-10-06 12:33:08,444 : INFO : EPOCH 7 - PROGRESS: at 99.65% examples, 110783 words/s, in_qsize 5, out_qsize 0\n",
      "2018-10-06 12:33:08,514 : INFO : worker thread finished; awaiting finish of 3 more threads\n",
      "2018-10-06 12:33:08,525 : INFO : worker thread finished; awaiting finish of 2 more threads\n",
      "2018-10-06 12:33:08,533 : INFO : worker thread finished; awaiting finish of 1 more threads\n",
      "2018-10-06 12:33:08,680 : INFO : worker thread finished; awaiting finish of 0 more threads\n",
      "2018-10-06 12:33:08,684 : INFO : EPOCH - 7 : training on 12084660 raw words (8816560 effective words) took 79.5s, 110838 effective words/s\n",
      "2018-10-06 12:33:10,377 : INFO : EPOCH 8 - PROGRESS: at 0.99% examples, 77312 words/s, in_qsize 8, out_qsize 0\n",
      "2018-10-06 12:33:11,528 : INFO : EPOCH 8 - PROGRESS: at 2.04% examples, 79312 words/s, in_qsize 7, out_qsize 0\n",
      "2018-10-06 12:33:12,610 : INFO : EPOCH 8 - PROGRESS: at 3.37% examples, 89995 words/s, in_qsize 7, out_qsize 0\n",
      "2018-10-06 12:33:13,674 : INFO : EPOCH 8 - PROGRESS: at 4.44% examples, 89418 words/s, in_qsize 8, out_qsize 0\n",
      "2018-10-06 12:33:14,711 : INFO : EPOCH 8 - PROGRESS: at 6.00% examples, 97447 words/s, in_qsize 7, out_qsize 0\n",
      "2018-10-06 12:33:15,766 : INFO : EPOCH 8 - PROGRESS: at 7.27% examples, 98326 words/s, in_qsize 8, out_qsize 0\n",
      "2018-10-06 12:33:16,852 : INFO : EPOCH 8 - PROGRESS: at 8.33% examples, 96572 words/s, in_qsize 8, out_qsize 0\n",
      "2018-10-06 12:33:17,876 : INFO : EPOCH 8 - PROGRESS: at 9.51% examples, 96767 words/s, in_qsize 8, out_qsize 0\n",
      "2018-10-06 12:33:18,929 : INFO : EPOCH 8 - PROGRESS: at 10.72% examples, 97386 words/s, in_qsize 7, out_qsize 0\n",
      "2018-10-06 12:33:19,984 : INFO : EPOCH 8 - PROGRESS: at 11.99% examples, 97908 words/s, in_qsize 8, out_qsize 0\n",
      "2018-10-06 12:33:21,043 : INFO : EPOCH 8 - PROGRESS: at 12.93% examples, 95760 words/s, in_qsize 8, out_qsize 0\n",
      "2018-10-06 12:33:22,078 : INFO : EPOCH 8 - PROGRESS: at 14.13% examples, 96436 words/s, in_qsize 8, out_qsize 0\n",
      "2018-10-06 12:33:23,130 : INFO : EPOCH 8 - PROGRESS: at 15.43% examples, 97406 words/s, in_qsize 7, out_qsize 0\n",
      "2018-10-06 12:33:24,209 : INFO : EPOCH 8 - PROGRESS: at 16.58% examples, 97121 words/s, in_qsize 7, out_qsize 0\n",
      "2018-10-06 12:33:25,240 : INFO : EPOCH 8 - PROGRESS: at 17.90% examples, 97980 words/s, in_qsize 7, out_qsize 0\n",
      "2018-10-06 12:33:26,327 : INFO : EPOCH 8 - PROGRESS: at 19.18% examples, 98394 words/s, in_qsize 7, out_qsize 0\n",
      "2018-10-06 12:33:27,344 : INFO : EPOCH 8 - PROGRESS: at 20.45% examples, 99190 words/s, in_qsize 8, out_qsize 0\n",
      "2018-10-06 12:33:28,375 : INFO : EPOCH 8 - PROGRESS: at 21.66% examples, 99112 words/s, in_qsize 7, out_qsize 0\n",
      "2018-10-06 12:33:29,461 : INFO : EPOCH 8 - PROGRESS: at 22.91% examples, 99094 words/s, in_qsize 7, out_qsize 0\n",
      "2018-10-06 12:33:30,505 : INFO : EPOCH 8 - PROGRESS: at 24.21% examples, 99971 words/s, in_qsize 7, out_qsize 0\n",
      "2018-10-06 12:33:31,599 : INFO : EPOCH 8 - PROGRESS: at 25.49% examples, 100192 words/s, in_qsize 7, out_qsize 0\n",
      "2018-10-06 12:33:32,661 : INFO : EPOCH 8 - PROGRESS: at 26.76% examples, 100258 words/s, in_qsize 7, out_qsize 0\n",
      "2018-10-06 12:33:33,696 : INFO : EPOCH 8 - PROGRESS: at 28.15% examples, 100992 words/s, in_qsize 8, out_qsize 0\n",
      "2018-10-06 12:33:34,856 : INFO : EPOCH 8 - PROGRESS: at 29.48% examples, 101185 words/s, in_qsize 4, out_qsize 3\n",
      "2018-10-06 12:33:35,886 : INFO : EPOCH 8 - PROGRESS: at 30.80% examples, 101580 words/s, in_qsize 7, out_qsize 0\n",
      "2018-10-06 12:33:36,888 : INFO : EPOCH 8 - PROGRESS: at 31.84% examples, 101249 words/s, in_qsize 7, out_qsize 0\n",
      "2018-10-06 12:33:37,898 : INFO : EPOCH 8 - PROGRESS: at 33.10% examples, 101687 words/s, in_qsize 5, out_qsize 2\n",
      "2018-10-06 12:33:38,925 : INFO : EPOCH 8 - PROGRESS: at 34.60% examples, 102515 words/s, in_qsize 8, out_qsize 0\n",
      "2018-10-06 12:33:39,992 : INFO : EPOCH 8 - PROGRESS: at 35.84% examples, 102444 words/s, in_qsize 7, out_qsize 0\n",
      "2018-10-06 12:33:41,010 : INFO : EPOCH 8 - PROGRESS: at 36.86% examples, 102080 words/s, in_qsize 7, out_qsize 0\n",
      "2018-10-06 12:33:42,097 : INFO : EPOCH 8 - PROGRESS: at 37.86% examples, 101538 words/s, in_qsize 7, out_qsize 0\n",
      "2018-10-06 12:33:43,243 : INFO : EPOCH 8 - PROGRESS: at 39.04% examples, 101279 words/s, in_qsize 8, out_qsize 0\n",
      "2018-10-06 12:33:44,246 : INFO : EPOCH 8 - PROGRESS: at 40.29% examples, 101629 words/s, in_qsize 7, out_qsize 0\n",
      "2018-10-06 12:33:45,257 : INFO : EPOCH 8 - PROGRESS: at 41.47% examples, 101578 words/s, in_qsize 7, out_qsize 0\n",
      "2018-10-06 12:33:46,291 : INFO : EPOCH 8 - PROGRESS: at 42.66% examples, 101642 words/s, in_qsize 7, out_qsize 0\n",
      "2018-10-06 12:33:47,384 : INFO : EPOCH 8 - PROGRESS: at 43.94% examples, 101726 words/s, in_qsize 7, out_qsize 0\n",
      "2018-10-06 12:33:48,462 : INFO : EPOCH 8 - PROGRESS: at 45.21% examples, 101848 words/s, in_qsize 7, out_qsize 0\n",
      "2018-10-06 12:33:49,623 : INFO : EPOCH 8 - PROGRESS: at 46.31% examples, 101412 words/s, in_qsize 8, out_qsize 0\n",
      "2018-10-06 12:33:50,631 : INFO : EPOCH 8 - PROGRESS: at 47.27% examples, 101019 words/s, in_qsize 7, out_qsize 0\n",
      "2018-10-06 12:33:51,645 : INFO : EPOCH 8 - PROGRESS: at 48.67% examples, 101481 words/s, in_qsize 7, out_qsize 0\n",
      "2018-10-06 12:33:52,674 : INFO : EPOCH 8 - PROGRESS: at 49.49% examples, 100740 words/s, in_qsize 8, out_qsize 0\n"
     ]
    },
    {
     "name": "stderr",
     "output_type": "stream",
     "text": [
      "2018-10-06 12:33:53,684 : INFO : EPOCH 8 - PROGRESS: at 50.57% examples, 100551 words/s, in_qsize 6, out_qsize 1\n",
      "2018-10-06 12:33:54,747 : INFO : EPOCH 8 - PROGRESS: at 51.55% examples, 100084 words/s, in_qsize 7, out_qsize 0\n",
      "2018-10-06 12:33:55,787 : INFO : EPOCH 8 - PROGRESS: at 52.88% examples, 100318 words/s, in_qsize 7, out_qsize 0\n",
      "2018-10-06 12:33:56,855 : INFO : EPOCH 8 - PROGRESS: at 54.31% examples, 100787 words/s, in_qsize 7, out_qsize 0\n",
      "2018-10-06 12:33:57,859 : INFO : EPOCH 8 - PROGRESS: at 55.36% examples, 100633 words/s, in_qsize 7, out_qsize 0\n",
      "2018-10-06 12:33:58,910 : INFO : EPOCH 8 - PROGRESS: at 56.58% examples, 100662 words/s, in_qsize 8, out_qsize 0\n",
      "2018-10-06 12:33:59,958 : INFO : EPOCH 8 - PROGRESS: at 57.73% examples, 100580 words/s, in_qsize 8, out_qsize 0\n",
      "2018-10-06 12:34:00,986 : INFO : EPOCH 8 - PROGRESS: at 58.96% examples, 100794 words/s, in_qsize 8, out_qsize 0\n",
      "2018-10-06 12:34:01,997 : INFO : EPOCH 8 - PROGRESS: at 60.19% examples, 100909 words/s, in_qsize 6, out_qsize 1\n",
      "2018-10-06 12:34:03,075 : INFO : EPOCH 8 - PROGRESS: at 61.32% examples, 100747 words/s, in_qsize 7, out_qsize 0\n",
      "2018-10-06 12:34:04,192 : INFO : EPOCH 8 - PROGRESS: at 62.19% examples, 100139 words/s, in_qsize 7, out_qsize 0\n",
      "2018-10-06 12:34:05,215 : INFO : EPOCH 8 - PROGRESS: at 63.31% examples, 100101 words/s, in_qsize 8, out_qsize 0\n",
      "2018-10-06 12:34:06,313 : INFO : EPOCH 8 - PROGRESS: at 64.52% examples, 100053 words/s, in_qsize 8, out_qsize 0\n",
      "2018-10-06 12:34:07,353 : INFO : EPOCH 8 - PROGRESS: at 65.91% examples, 100368 words/s, in_qsize 7, out_qsize 0\n",
      "2018-10-06 12:34:08,374 : INFO : EPOCH 8 - PROGRESS: at 67.28% examples, 100677 words/s, in_qsize 7, out_qsize 0\n",
      "2018-10-06 12:34:09,426 : INFO : EPOCH 8 - PROGRESS: at 68.71% examples, 100947 words/s, in_qsize 7, out_qsize 0\n",
      "2018-10-06 12:34:10,444 : INFO : EPOCH 8 - PROGRESS: at 69.94% examples, 101033 words/s, in_qsize 8, out_qsize 0\n",
      "2018-10-06 12:34:11,480 : INFO : EPOCH 8 - PROGRESS: at 71.19% examples, 101079 words/s, in_qsize 8, out_qsize 1\n",
      "2018-10-06 12:34:12,509 : INFO : EPOCH 8 - PROGRESS: at 72.40% examples, 101130 words/s, in_qsize 7, out_qsize 0\n",
      "2018-10-06 12:34:13,538 : INFO : EPOCH 8 - PROGRESS: at 73.56% examples, 101070 words/s, in_qsize 7, out_qsize 0\n",
      "2018-10-06 12:34:14,539 : INFO : EPOCH 8 - PROGRESS: at 74.82% examples, 101268 words/s, in_qsize 7, out_qsize 0\n",
      "2018-10-06 12:34:15,552 : INFO : EPOCH 8 - PROGRESS: at 76.01% examples, 101244 words/s, in_qsize 8, out_qsize 0\n",
      "2018-10-06 12:34:16,784 : INFO : EPOCH 8 - PROGRESS: at 77.41% examples, 101308 words/s, in_qsize 7, out_qsize 0\n",
      "2018-10-06 12:34:17,787 : INFO : EPOCH 8 - PROGRESS: at 78.53% examples, 101185 words/s, in_qsize 8, out_qsize 0\n",
      "2018-10-06 12:34:18,819 : INFO : EPOCH 8 - PROGRESS: at 79.75% examples, 101117 words/s, in_qsize 8, out_qsize 0\n",
      "2018-10-06 12:34:19,835 : INFO : EPOCH 8 - PROGRESS: at 81.01% examples, 101277 words/s, in_qsize 7, out_qsize 0\n",
      "2018-10-06 12:34:20,878 : INFO : EPOCH 8 - PROGRESS: at 82.30% examples, 101408 words/s, in_qsize 7, out_qsize 0\n",
      "2018-10-06 12:34:21,988 : INFO : EPOCH 8 - PROGRESS: at 83.52% examples, 101343 words/s, in_qsize 7, out_qsize 0\n",
      "2018-10-06 12:34:23,021 : INFO : EPOCH 8 - PROGRESS: at 84.80% examples, 101483 words/s, in_qsize 7, out_qsize 0\n",
      "2018-10-06 12:34:24,068 : INFO : EPOCH 8 - PROGRESS: at 85.95% examples, 101317 words/s, in_qsize 7, out_qsize 0\n",
      "2018-10-06 12:34:25,151 : INFO : EPOCH 8 - PROGRESS: at 87.28% examples, 101380 words/s, in_qsize 7, out_qsize 0\n",
      "2018-10-06 12:34:26,267 : INFO : EPOCH 8 - PROGRESS: at 88.50% examples, 101309 words/s, in_qsize 8, out_qsize 0\n",
      "2018-10-06 12:34:27,415 : INFO : EPOCH 8 - PROGRESS: at 89.69% examples, 101187 words/s, in_qsize 7, out_qsize 0\n",
      "2018-10-06 12:34:28,436 : INFO : EPOCH 8 - PROGRESS: at 90.92% examples, 101256 words/s, in_qsize 8, out_qsize 0\n",
      "2018-10-06 12:34:29,525 : INFO : EPOCH 8 - PROGRESS: at 92.01% examples, 101119 words/s, in_qsize 6, out_qsize 1\n",
      "2018-10-06 12:34:30,628 : INFO : EPOCH 8 - PROGRESS: at 93.26% examples, 101070 words/s, in_qsize 7, out_qsize 0\n",
      "2018-10-06 12:34:31,692 : INFO : EPOCH 8 - PROGRESS: at 94.35% examples, 100971 words/s, in_qsize 8, out_qsize 0\n",
      "2018-10-06 12:34:32,845 : INFO : EPOCH 8 - PROGRESS: at 95.40% examples, 100687 words/s, in_qsize 7, out_qsize 0\n",
      "2018-10-06 12:34:33,893 : INFO : EPOCH 8 - PROGRESS: at 96.49% examples, 100622 words/s, in_qsize 7, out_qsize 0\n",
      "2018-10-06 12:34:34,895 : INFO : EPOCH 8 - PROGRESS: at 97.59% examples, 100530 words/s, in_qsize 8, out_qsize 0\n",
      "2018-10-06 12:34:35,964 : INFO : EPOCH 8 - PROGRESS: at 98.75% examples, 100448 words/s, in_qsize 7, out_qsize 0\n",
      "2018-10-06 12:34:36,788 : INFO : worker thread finished; awaiting finish of 3 more threads\n",
      "2018-10-06 12:34:36,853 : INFO : worker thread finished; awaiting finish of 2 more threads\n",
      "2018-10-06 12:34:36,859 : INFO : worker thread finished; awaiting finish of 1 more threads\n",
      "2018-10-06 12:34:36,888 : INFO : worker thread finished; awaiting finish of 0 more threads\n",
      "2018-10-06 12:34:36,902 : INFO : EPOCH - 8 : training on 12084660 raw words (8818576 effective words) took 87.6s, 100629 effective words/s\n",
      "2018-10-06 12:34:38,635 : INFO : EPOCH 9 - PROGRESS: at 0.90% examples, 69829 words/s, in_qsize 7, out_qsize 0\n",
      "2018-10-06 12:34:39,689 : INFO : EPOCH 9 - PROGRESS: at 2.13% examples, 85537 words/s, in_qsize 8, out_qsize 0\n",
      "2018-10-06 12:34:40,701 : INFO : EPOCH 9 - PROGRESS: at 3.30% examples, 91953 words/s, in_qsize 8, out_qsize 0\n",
      "2018-10-06 12:34:41,715 : INFO : EPOCH 9 - PROGRESS: at 4.52% examples, 95398 words/s, in_qsize 7, out_qsize 0\n",
      "2018-10-06 12:34:42,808 : INFO : EPOCH 9 - PROGRESS: at 6.00% examples, 100047 words/s, in_qsize 6, out_qsize 1\n",
      "2018-10-06 12:34:43,870 : INFO : EPOCH 9 - PROGRESS: at 7.27% examples, 100340 words/s, in_qsize 7, out_qsize 0\n",
      "2018-10-06 12:34:45,031 : INFO : EPOCH 9 - PROGRESS: at 8.76% examples, 102050 words/s, in_qsize 7, out_qsize 0\n",
      "2018-10-06 12:34:46,074 : INFO : EPOCH 9 - PROGRESS: at 9.92% examples, 101362 words/s, in_qsize 7, out_qsize 0\n",
      "2018-10-06 12:34:47,080 : INFO : EPOCH 9 - PROGRESS: at 10.90% examples, 99753 words/s, in_qsize 7, out_qsize 0\n",
      "2018-10-06 12:34:48,103 : INFO : EPOCH 9 - PROGRESS: at 11.98% examples, 98960 words/s, in_qsize 8, out_qsize 2\n",
      "2018-10-06 12:34:49,146 : INFO : EPOCH 9 - PROGRESS: at 13.03% examples, 97472 words/s, in_qsize 7, out_qsize 0\n",
      "2018-10-06 12:34:50,162 : INFO : EPOCH 9 - PROGRESS: at 14.04% examples, 96993 words/s, in_qsize 8, out_qsize 0\n",
      "2018-10-06 12:34:51,219 : INFO : EPOCH 9 - PROGRESS: at 15.11% examples, 96309 words/s, in_qsize 7, out_qsize 0\n",
      "2018-10-06 12:34:52,254 : INFO : EPOCH 9 - PROGRESS: at 16.14% examples, 95921 words/s, in_qsize 8, out_qsize 0\n",
      "2018-10-06 12:34:53,291 : INFO : EPOCH 9 - PROGRESS: at 17.31% examples, 95967 words/s, in_qsize 8, out_qsize 0\n",
      "2018-10-06 12:34:54,350 : INFO : EPOCH 9 - PROGRESS: at 18.35% examples, 95404 words/s, in_qsize 7, out_qsize 0\n",
      "2018-10-06 12:34:55,360 : INFO : EPOCH 9 - PROGRESS: at 19.61% examples, 96015 words/s, in_qsize 7, out_qsize 0\n",
      "2018-10-06 12:34:56,483 : INFO : EPOCH 9 - PROGRESS: at 20.64% examples, 95218 words/s, in_qsize 8, out_qsize 0\n",
      "2018-10-06 12:34:57,511 : INFO : EPOCH 9 - PROGRESS: at 21.82% examples, 95343 words/s, in_qsize 7, out_qsize 0\n",
      "2018-10-06 12:34:58,624 : INFO : EPOCH 9 - PROGRESS: at 23.06% examples, 95400 words/s, in_qsize 8, out_qsize 0\n",
      "2018-10-06 12:34:59,800 : INFO : EPOCH 9 - PROGRESS: at 24.28% examples, 95509 words/s, in_qsize 7, out_qsize 0\n",
      "2018-10-06 12:35:00,828 : INFO : EPOCH 9 - PROGRESS: at 25.32% examples, 95288 words/s, in_qsize 7, out_qsize 0\n",
      "2018-10-06 12:35:01,843 : INFO : EPOCH 9 - PROGRESS: at 26.23% examples, 94574 words/s, in_qsize 7, out_qsize 0\n",
      "2018-10-06 12:35:02,931 : INFO : EPOCH 9 - PROGRESS: at 27.57% examples, 95046 words/s, in_qsize 7, out_qsize 0\n",
      "2018-10-06 12:35:03,987 : INFO : EPOCH 9 - PROGRESS: at 28.53% examples, 94483 words/s, in_qsize 8, out_qsize 0\n",
      "2018-10-06 12:35:05,012 : INFO : EPOCH 9 - PROGRESS: at 29.57% examples, 94367 words/s, in_qsize 7, out_qsize 0\n",
      "2018-10-06 12:35:06,034 : INFO : EPOCH 9 - PROGRESS: at 30.64% examples, 94252 words/s, in_qsize 7, out_qsize 0\n",
      "2018-10-06 12:35:07,078 : INFO : EPOCH 9 - PROGRESS: at 31.76% examples, 94302 words/s, in_qsize 8, out_qsize 0\n"
     ]
    },
    {
     "name": "stderr",
     "output_type": "stream",
     "text": [
      "2018-10-06 12:35:08,085 : INFO : EPOCH 9 - PROGRESS: at 32.87% examples, 94476 words/s, in_qsize 8, out_qsize 0\n",
      "2018-10-06 12:35:09,087 : INFO : EPOCH 9 - PROGRESS: at 34.19% examples, 95109 words/s, in_qsize 7, out_qsize 0\n",
      "2018-10-06 12:35:10,202 : INFO : EPOCH 9 - PROGRESS: at 35.49% examples, 95371 words/s, in_qsize 7, out_qsize 0\n",
      "2018-10-06 12:35:11,365 : INFO : EPOCH 9 - PROGRESS: at 36.70% examples, 95258 words/s, in_qsize 7, out_qsize 0\n",
      "2018-10-06 12:35:12,407 : INFO : EPOCH 9 - PROGRESS: at 37.94% examples, 95693 words/s, in_qsize 8, out_qsize 0\n",
      "2018-10-06 12:35:13,484 : INFO : EPOCH 9 - PROGRESS: at 39.04% examples, 95620 words/s, in_qsize 8, out_qsize 0\n",
      "2018-10-06 12:35:14,490 : INFO : EPOCH 9 - PROGRESS: at 39.96% examples, 95315 words/s, in_qsize 7, out_qsize 0\n",
      "2018-10-06 12:35:15,491 : INFO : EPOCH 9 - PROGRESS: at 40.94% examples, 95085 words/s, in_qsize 7, out_qsize 0\n",
      "2018-10-06 12:35:16,575 : INFO : EPOCH 9 - PROGRESS: at 42.10% examples, 95013 words/s, in_qsize 7, out_qsize 0\n",
      "2018-10-06 12:35:17,599 : INFO : EPOCH 9 - PROGRESS: at 43.04% examples, 94742 words/s, in_qsize 7, out_qsize 0\n",
      "2018-10-06 12:35:18,701 : INFO : EPOCH 9 - PROGRESS: at 44.27% examples, 94809 words/s, in_qsize 7, out_qsize 0\n",
      "2018-10-06 12:35:19,717 : INFO : EPOCH 9 - PROGRESS: at 45.45% examples, 95061 words/s, in_qsize 7, out_qsize 0\n",
      "2018-10-06 12:35:20,803 : INFO : EPOCH 9 - PROGRESS: at 46.55% examples, 95001 words/s, in_qsize 8, out_qsize 0\n",
      "2018-10-06 12:35:21,844 : INFO : EPOCH 9 - PROGRESS: at 48.36% examples, 96325 words/s, in_qsize 7, out_qsize 0\n",
      "2018-10-06 12:35:22,956 : INFO : EPOCH 9 - PROGRESS: at 50.35% examples, 97767 words/s, in_qsize 7, out_qsize 0\n",
      "2018-10-06 12:35:23,969 : INFO : EPOCH 9 - PROGRESS: at 52.32% examples, 99337 words/s, in_qsize 7, out_qsize 0\n",
      "2018-10-06 12:35:25,072 : INFO : EPOCH 9 - PROGRESS: at 54.31% examples, 100822 words/s, in_qsize 7, out_qsize 0\n",
      "2018-10-06 12:35:26,111 : INFO : EPOCH 9 - PROGRESS: at 56.24% examples, 102220 words/s, in_qsize 8, out_qsize 0\n",
      "2018-10-06 12:35:27,257 : INFO : EPOCH 9 - PROGRESS: at 57.74% examples, 102462 words/s, in_qsize 6, out_qsize 1\n",
      "2018-10-06 12:35:28,262 : INFO : EPOCH 9 - PROGRESS: at 58.90% examples, 102552 words/s, in_qsize 8, out_qsize 0\n",
      "2018-10-06 12:35:29,273 : INFO : EPOCH 9 - PROGRESS: at 60.03% examples, 102497 words/s, in_qsize 7, out_qsize 0\n",
      "2018-10-06 12:35:30,307 : INFO : EPOCH 9 - PROGRESS: at 61.17% examples, 102393 words/s, in_qsize 8, out_qsize 0\n",
      "2018-10-06 12:35:31,498 : INFO : EPOCH 9 - PROGRESS: at 62.57% examples, 102514 words/s, in_qsize 7, out_qsize 0\n",
      "2018-10-06 12:35:32,541 : INFO : EPOCH 9 - PROGRESS: at 63.95% examples, 102783 words/s, in_qsize 8, out_qsize 0\n",
      "2018-10-06 12:35:33,570 : INFO : EPOCH 9 - PROGRESS: at 64.99% examples, 102558 words/s, in_qsize 8, out_qsize 0\n",
      "2018-10-06 12:35:34,580 : INFO : EPOCH 9 - PROGRESS: at 65.96% examples, 102252 words/s, in_qsize 7, out_qsize 0\n",
      "2018-10-06 12:35:35,602 : INFO : EPOCH 9 - PROGRESS: at 67.28% examples, 102413 words/s, in_qsize 8, out_qsize 0\n",
      "2018-10-06 12:35:36,689 : INFO : EPOCH 9 - PROGRESS: at 68.47% examples, 102234 words/s, in_qsize 8, out_qsize 0\n",
      "2018-10-06 12:35:37,797 : INFO : EPOCH 9 - PROGRESS: at 69.96% examples, 102506 words/s, in_qsize 8, out_qsize 0\n",
      "2018-10-06 12:35:38,810 : INFO : EPOCH 9 - PROGRESS: at 71.26% examples, 102690 words/s, in_qsize 7, out_qsize 0\n",
      "2018-10-06 12:35:39,829 : INFO : EPOCH 9 - PROGRESS: at 72.57% examples, 102851 words/s, in_qsize 7, out_qsize 0\n",
      "2018-10-06 12:35:40,897 : INFO : EPOCH 9 - PROGRESS: at 73.81% examples, 102800 words/s, in_qsize 6, out_qsize 1\n",
      "2018-10-06 12:35:42,014 : INFO : EPOCH 9 - PROGRESS: at 74.91% examples, 102573 words/s, in_qsize 7, out_qsize 0\n",
      "2018-10-06 12:35:43,053 : INFO : EPOCH 9 - PROGRESS: at 76.16% examples, 102589 words/s, in_qsize 8, out_qsize 0\n",
      "2018-10-06 12:35:44,124 : INFO : EPOCH 9 - PROGRESS: at 77.33% examples, 102559 words/s, in_qsize 7, out_qsize 0\n",
      "2018-10-06 12:35:45,214 : INFO : EPOCH 9 - PROGRESS: at 78.53% examples, 102388 words/s, in_qsize 8, out_qsize 0\n",
      "2018-10-06 12:35:46,255 : INFO : EPOCH 9 - PROGRESS: at 79.56% examples, 102089 words/s, in_qsize 7, out_qsize 0\n",
      "2018-10-06 12:35:47,294 : INFO : EPOCH 9 - PROGRESS: at 80.62% examples, 101886 words/s, in_qsize 8, out_qsize 0\n",
      "2018-10-06 12:35:48,334 : INFO : EPOCH 9 - PROGRESS: at 81.67% examples, 101707 words/s, in_qsize 7, out_qsize 0\n",
      "2018-10-06 12:35:49,405 : INFO : EPOCH 9 - PROGRESS: at 82.93% examples, 101786 words/s, in_qsize 8, out_qsize 0\n",
      "2018-10-06 12:35:50,439 : INFO : EPOCH 9 - PROGRESS: at 84.16% examples, 101828 words/s, in_qsize 8, out_qsize 0\n",
      "2018-10-06 12:35:51,448 : INFO : EPOCH 9 - PROGRESS: at 85.53% examples, 101998 words/s, in_qsize 7, out_qsize 0\n",
      "2018-10-06 12:35:52,468 : INFO : EPOCH 9 - PROGRESS: at 86.61% examples, 101846 words/s, in_qsize 8, out_qsize 0\n",
      "2018-10-06 12:35:53,538 : INFO : EPOCH 9 - PROGRESS: at 87.84% examples, 101830 words/s, in_qsize 8, out_qsize 0\n",
      "2018-10-06 12:35:54,541 : INFO : EPOCH 9 - PROGRESS: at 88.93% examples, 101712 words/s, in_qsize 6, out_qsize 1\n",
      "2018-10-06 12:35:55,607 : INFO : EPOCH 9 - PROGRESS: at 90.00% examples, 101608 words/s, in_qsize 7, out_qsize 0\n",
      "2018-10-06 12:35:56,616 : INFO : EPOCH 9 - PROGRESS: at 91.26% examples, 101677 words/s, in_qsize 8, out_qsize 0\n",
      "2018-10-06 12:35:57,700 : INFO : EPOCH 9 - PROGRESS: at 92.36% examples, 101544 words/s, in_qsize 7, out_qsize 0\n",
      "2018-10-06 12:35:58,729 : INFO : EPOCH 9 - PROGRESS: at 93.64% examples, 101666 words/s, in_qsize 7, out_qsize 0\n",
      "2018-10-06 12:35:59,752 : INFO : EPOCH 9 - PROGRESS: at 94.84% examples, 101698 words/s, in_qsize 8, out_qsize 0\n",
      "2018-10-06 12:36:00,886 : INFO : EPOCH 9 - PROGRESS: at 96.03% examples, 101602 words/s, in_qsize 7, out_qsize 0\n",
      "2018-10-06 12:36:01,896 : INFO : EPOCH 9 - PROGRESS: at 97.24% examples, 101656 words/s, in_qsize 8, out_qsize 0\n",
      "2018-10-06 12:36:03,026 : INFO : EPOCH 9 - PROGRESS: at 98.07% examples, 101153 words/s, in_qsize 7, out_qsize 0\n",
      "2018-10-06 12:36:04,026 : INFO : EPOCH 9 - PROGRESS: at 99.15% examples, 101059 words/s, in_qsize 7, out_qsize 0\n",
      "2018-10-06 12:36:04,519 : INFO : worker thread finished; awaiting finish of 3 more threads\n",
      "2018-10-06 12:36:04,523 : INFO : worker thread finished; awaiting finish of 2 more threads\n",
      "2018-10-06 12:36:04,528 : INFO : worker thread finished; awaiting finish of 1 more threads\n",
      "2018-10-06 12:36:04,541 : INFO : worker thread finished; awaiting finish of 0 more threads\n",
      "2018-10-06 12:36:04,546 : INFO : EPOCH - 9 : training on 12084660 raw words (8817670 effective words) took 87.0s, 101307 effective words/s\n",
      "2018-10-06 12:36:06,366 : INFO : EPOCH 10 - PROGRESS: at 1.01% examples, 83073 words/s, in_qsize 8, out_qsize 0\n",
      "2018-10-06 12:36:07,472 : INFO : EPOCH 10 - PROGRESS: at 2.13% examples, 87161 words/s, in_qsize 8, out_qsize 1\n",
      "2018-10-06 12:36:08,574 : INFO : EPOCH 10 - PROGRESS: at 3.22% examples, 88234 words/s, in_qsize 8, out_qsize 0\n",
      "2018-10-06 12:36:09,628 : INFO : EPOCH 10 - PROGRESS: at 4.09% examples, 85008 words/s, in_qsize 7, out_qsize 0\n",
      "2018-10-06 12:36:10,718 : INFO : EPOCH 10 - PROGRESS: at 5.35% examples, 87810 words/s, in_qsize 8, out_qsize 0\n",
      "2018-10-06 12:36:11,776 : INFO : EPOCH 10 - PROGRESS: at 6.44% examples, 87890 words/s, in_qsize 8, out_qsize 0\n",
      "2018-10-06 12:36:12,791 : INFO : EPOCH 10 - PROGRESS: at 7.86% examples, 92363 words/s, in_qsize 8, out_qsize 0\n",
      "2018-10-06 12:36:13,863 : INFO : EPOCH 10 - PROGRESS: at 9.05% examples, 92520 words/s, in_qsize 8, out_qsize 0\n",
      "2018-10-06 12:36:14,864 : INFO : EPOCH 10 - PROGRESS: at 10.09% examples, 92584 words/s, in_qsize 7, out_qsize 0\n",
      "2018-10-06 12:36:15,872 : INFO : EPOCH 10 - PROGRESS: at 11.15% examples, 92632 words/s, in_qsize 7, out_qsize 0\n",
      "2018-10-06 12:36:16,888 : INFO : EPOCH 10 - PROGRESS: at 12.16% examples, 91990 words/s, in_qsize 8, out_qsize 1\n",
      "2018-10-06 12:36:17,892 : INFO : EPOCH 10 - PROGRESS: at 13.34% examples, 92647 words/s, in_qsize 8, out_qsize 1\n",
      "2018-10-06 12:36:19,019 : INFO : EPOCH 10 - PROGRESS: at 14.61% examples, 93357 words/s, in_qsize 8, out_qsize 0\n",
      "2018-10-06 12:36:20,087 : INFO : EPOCH 10 - PROGRESS: at 15.44% examples, 91502 words/s, in_qsize 7, out_qsize 2\n",
      "2018-10-06 12:36:21,190 : INFO : EPOCH 10 - PROGRESS: at 16.41% examples, 90595 words/s, in_qsize 7, out_qsize 0\n"
     ]
    },
    {
     "name": "stderr",
     "output_type": "stream",
     "text": [
      "2018-10-06 12:36:22,251 : INFO : EPOCH 10 - PROGRESS: at 17.66% examples, 91249 words/s, in_qsize 8, out_qsize 0\n",
      "2018-10-06 12:36:23,302 : INFO : EPOCH 10 - PROGRESS: at 18.84% examples, 91804 words/s, in_qsize 8, out_qsize 2\n",
      "2018-10-06 12:36:24,383 : INFO : EPOCH 10 - PROGRESS: at 19.91% examples, 91463 words/s, in_qsize 8, out_qsize 0\n",
      "2018-10-06 12:36:25,410 : INFO : EPOCH 10 - PROGRESS: at 20.97% examples, 91444 words/s, in_qsize 8, out_qsize 0\n",
      "2018-10-06 12:36:26,509 : INFO : EPOCH 10 - PROGRESS: at 22.31% examples, 92073 words/s, in_qsize 7, out_qsize 0\n",
      "2018-10-06 12:36:27,520 : INFO : EPOCH 10 - PROGRESS: at 23.29% examples, 91758 words/s, in_qsize 7, out_qsize 0\n",
      "2018-10-06 12:36:28,539 : INFO : EPOCH 10 - PROGRESS: at 24.68% examples, 93299 words/s, in_qsize 7, out_qsize 0\n",
      "2018-10-06 12:36:29,655 : INFO : EPOCH 10 - PROGRESS: at 26.00% examples, 93729 words/s, in_qsize 7, out_qsize 0\n",
      "2018-10-06 12:36:30,669 : INFO : EPOCH 10 - PROGRESS: at 26.95% examples, 93090 words/s, in_qsize 7, out_qsize 0\n",
      "2018-10-06 12:36:31,802 : INFO : EPOCH 10 - PROGRESS: at 27.98% examples, 92624 words/s, in_qsize 7, out_qsize 0\n",
      "2018-10-06 12:36:32,872 : INFO : EPOCH 10 - PROGRESS: at 29.31% examples, 93446 words/s, in_qsize 7, out_qsize 0\n",
      "2018-10-06 12:36:33,931 : INFO : EPOCH 10 - PROGRESS: at 30.64% examples, 94006 words/s, in_qsize 7, out_qsize 0\n",
      "2018-10-06 12:36:35,120 : INFO : EPOCH 10 - PROGRESS: at 31.91% examples, 94068 words/s, in_qsize 7, out_qsize 1\n",
      "2018-10-06 12:36:36,221 : INFO : EPOCH 10 - PROGRESS: at 33.13% examples, 94213 words/s, in_qsize 8, out_qsize 0\n",
      "2018-10-06 12:36:37,268 : INFO : EPOCH 10 - PROGRESS: at 34.38% examples, 94490 words/s, in_qsize 7, out_qsize 0\n",
      "2018-10-06 12:36:38,301 : INFO : EPOCH 10 - PROGRESS: at 35.46% examples, 94562 words/s, in_qsize 7, out_qsize 0\n",
      "2018-10-06 12:36:39,372 : INFO : EPOCH 10 - PROGRESS: at 36.62% examples, 94529 words/s, in_qsize 7, out_qsize 0\n",
      "2018-10-06 12:36:40,394 : INFO : EPOCH 10 - PROGRESS: at 37.86% examples, 95037 words/s, in_qsize 8, out_qsize 0\n",
      "2018-10-06 12:36:41,409 : INFO : EPOCH 10 - PROGRESS: at 39.04% examples, 95350 words/s, in_qsize 7, out_qsize 0\n",
      "2018-10-06 12:36:42,443 : INFO : EPOCH 10 - PROGRESS: at 40.06% examples, 95183 words/s, in_qsize 8, out_qsize 1\n",
      "2018-10-06 12:36:43,525 : INFO : EPOCH 10 - PROGRESS: at 41.19% examples, 95127 words/s, in_qsize 7, out_qsize 0\n",
      "2018-10-06 12:36:44,577 : INFO : EPOCH 10 - PROGRESS: at 42.24% examples, 94938 words/s, in_qsize 7, out_qsize 0\n",
      "2018-10-06 12:36:45,616 : INFO : EPOCH 10 - PROGRESS: at 43.64% examples, 95517 words/s, in_qsize 8, out_qsize 1\n",
      "2018-10-06 12:36:46,739 : INFO : EPOCH 10 - PROGRESS: at 44.99% examples, 95855 words/s, in_qsize 8, out_qsize 0\n",
      "2018-10-06 12:36:47,768 : INFO : EPOCH 10 - PROGRESS: at 46.16% examples, 96063 words/s, in_qsize 7, out_qsize 0\n",
      "2018-10-06 12:36:48,824 : INFO : EPOCH 10 - PROGRESS: at 47.35% examples, 96201 words/s, in_qsize 7, out_qsize 0\n",
      "2018-10-06 12:36:49,838 : INFO : EPOCH 10 - PROGRESS: at 48.75% examples, 96758 words/s, in_qsize 6, out_qsize 1\n",
      "2018-10-06 12:36:50,963 : INFO : EPOCH 10 - PROGRESS: at 50.01% examples, 96734 words/s, in_qsize 8, out_qsize 0\n",
      "2018-10-06 12:36:52,002 : INFO : EPOCH 10 - PROGRESS: at 51.07% examples, 96586 words/s, in_qsize 8, out_qsize 0\n",
      "2018-10-06 12:36:53,113 : INFO : EPOCH 10 - PROGRESS: at 52.28% examples, 96590 words/s, in_qsize 7, out_qsize 0\n",
      "2018-10-06 12:36:54,141 : INFO : EPOCH 10 - PROGRESS: at 53.59% examples, 96914 words/s, in_qsize 7, out_qsize 0\n",
      "2018-10-06 12:36:55,266 : INFO : EPOCH 10 - PROGRESS: at 54.96% examples, 97185 words/s, in_qsize 7, out_qsize 0\n",
      "2018-10-06 12:36:56,267 : INFO : EPOCH 10 - PROGRESS: at 56.33% examples, 97675 words/s, in_qsize 8, out_qsize 0\n",
      "2018-10-06 12:36:57,347 : INFO : EPOCH 10 - PROGRESS: at 57.57% examples, 97727 words/s, in_qsize 8, out_qsize 0\n",
      "2018-10-06 12:36:58,434 : INFO : EPOCH 10 - PROGRESS: at 58.90% examples, 98023 words/s, in_qsize 6, out_qsize 1\n",
      "2018-10-06 12:36:59,456 : INFO : EPOCH 10 - PROGRESS: at 60.26% examples, 98428 words/s, in_qsize 8, out_qsize 0\n",
      "2018-10-06 12:37:00,525 : INFO : EPOCH 10 - PROGRESS: at 61.40% examples, 98340 words/s, in_qsize 7, out_qsize 0\n",
      "2018-10-06 12:37:01,550 : INFO : EPOCH 10 - PROGRESS: at 62.74% examples, 98717 words/s, in_qsize 7, out_qsize 0\n",
      "2018-10-06 12:37:02,556 : INFO : EPOCH 10 - PROGRESS: at 63.87% examples, 98732 words/s, in_qsize 7, out_qsize 0\n",
      "2018-10-06 12:37:03,605 : INFO : EPOCH 10 - PROGRESS: at 65.08% examples, 98800 words/s, in_qsize 8, out_qsize 0\n",
      "2018-10-06 12:37:04,631 : INFO : EPOCH 10 - PROGRESS: at 66.23% examples, 98784 words/s, in_qsize 8, out_qsize 0\n",
      "2018-10-06 12:37:05,666 : INFO : EPOCH 10 - PROGRESS: at 67.21% examples, 98503 words/s, in_qsize 7, out_qsize 0\n",
      "2018-10-06 12:37:06,675 : INFO : EPOCH 10 - PROGRESS: at 68.47% examples, 98638 words/s, in_qsize 8, out_qsize 0\n",
      "2018-10-06 12:37:07,679 : INFO : EPOCH 10 - PROGRESS: at 69.53% examples, 98547 words/s, in_qsize 8, out_qsize 1\n",
      "2018-10-06 12:37:08,681 : INFO : EPOCH 10 - PROGRESS: at 70.87% examples, 98806 words/s, in_qsize 7, out_qsize 0\n",
      "2018-10-06 12:37:09,731 : INFO : EPOCH 10 - PROGRESS: at 72.31% examples, 99201 words/s, in_qsize 7, out_qsize 0\n",
      "2018-10-06 12:37:10,746 : INFO : EPOCH 10 - PROGRESS: at 73.57% examples, 99304 words/s, in_qsize 8, out_qsize 0\n",
      "2018-10-06 12:37:11,780 : INFO : EPOCH 10 - PROGRESS: at 74.66% examples, 99262 words/s, in_qsize 7, out_qsize 0\n",
      "2018-10-06 12:37:12,845 : INFO : EPOCH 10 - PROGRESS: at 76.00% examples, 99398 words/s, in_qsize 7, out_qsize 0\n",
      "2018-10-06 12:37:13,848 : INFO : EPOCH 10 - PROGRESS: at 76.94% examples, 99204 words/s, in_qsize 8, out_qsize 0\n",
      "2018-10-06 12:37:14,955 : INFO : EPOCH 10 - PROGRESS: at 77.99% examples, 98957 words/s, in_qsize 8, out_qsize 0\n",
      "2018-10-06 12:37:15,956 : INFO : EPOCH 10 - PROGRESS: at 79.14% examples, 98877 words/s, in_qsize 7, out_qsize 0\n",
      "2018-10-06 12:37:16,982 : INFO : EPOCH 10 - PROGRESS: at 80.46% examples, 99057 words/s, in_qsize 7, out_qsize 0\n",
      "2018-10-06 12:37:18,000 : INFO : EPOCH 10 - PROGRESS: at 81.51% examples, 98945 words/s, in_qsize 7, out_qsize 0\n",
      "2018-10-06 12:37:19,122 : INFO : EPOCH 10 - PROGRESS: at 82.56% examples, 98701 words/s, in_qsize 7, out_qsize 0\n",
      "2018-10-06 12:37:20,148 : INFO : EPOCH 10 - PROGRESS: at 83.52% examples, 98500 words/s, in_qsize 7, out_qsize 0\n",
      "2018-10-06 12:37:21,223 : INFO : EPOCH 10 - PROGRESS: at 84.71% examples, 98527 words/s, in_qsize 7, out_qsize 0\n",
      "2018-10-06 12:37:22,283 : INFO : EPOCH 10 - PROGRESS: at 85.94% examples, 98480 words/s, in_qsize 8, out_qsize 0\n",
      "2018-10-06 12:37:23,330 : INFO : EPOCH 10 - PROGRESS: at 87.09% examples, 98440 words/s, in_qsize 7, out_qsize 0\n",
      "2018-10-06 12:37:24,372 : INFO : EPOCH 10 - PROGRESS: at 88.23% examples, 98417 words/s, in_qsize 8, out_qsize 0\n",
      "2018-10-06 12:37:25,381 : INFO : EPOCH 10 - PROGRESS: at 89.46% examples, 98510 words/s, in_qsize 7, out_qsize 0\n",
      "2018-10-06 12:37:26,459 : INFO : EPOCH 10 - PROGRESS: at 90.76% examples, 98628 words/s, in_qsize 8, out_qsize 0\n",
      "2018-10-06 12:37:27,503 : INFO : EPOCH 10 - PROGRESS: at 92.10% examples, 98848 words/s, in_qsize 7, out_qsize 0\n",
      "2018-10-06 12:37:28,562 : INFO : EPOCH 10 - PROGRESS: at 93.36% examples, 98883 words/s, in_qsize 7, out_qsize 0\n",
      "2018-10-06 12:37:29,577 : INFO : EPOCH 10 - PROGRESS: at 94.50% examples, 98955 words/s, in_qsize 8, out_qsize 1\n",
      "2018-10-06 12:37:30,641 : INFO : EPOCH 10 - PROGRESS: at 95.47% examples, 98723 words/s, in_qsize 8, out_qsize 0\n",
      "2018-10-06 12:37:31,663 : INFO : EPOCH 10 - PROGRESS: at 96.41% examples, 98552 words/s, in_qsize 7, out_qsize 0\n",
      "2018-10-06 12:37:32,681 : INFO : EPOCH 10 - PROGRESS: at 97.74% examples, 98714 words/s, in_qsize 7, out_qsize 0\n",
      "2018-10-06 12:37:33,709 : INFO : EPOCH 10 - PROGRESS: at 98.99% examples, 98784 words/s, in_qsize 8, out_qsize 0\n",
      "2018-10-06 12:37:34,241 : INFO : worker thread finished; awaiting finish of 3 more threads\n",
      "2018-10-06 12:37:34,302 : INFO : worker thread finished; awaiting finish of 2 more threads\n",
      "2018-10-06 12:37:34,307 : INFO : worker thread finished; awaiting finish of 1 more threads\n",
      "2018-10-06 12:37:34,312 : INFO : worker thread finished; awaiting finish of 0 more threads\n",
      "2018-10-06 12:37:34,323 : INFO : EPOCH - 10 : training on 12084660 raw words (8818828 effective words) took 89.0s, 99095 effective words/s\n"
     ]
    },
    {
     "name": "stderr",
     "output_type": "stream",
     "text": [
      "2018-10-06 12:37:34,327 : INFO : training on a 120846600 raw words (88171431 effective words) took 635.3s, 138786 effective words/s\n"
     ]
    }
   ],
   "source": [
    "#Logging for training\n",
    "logging.basicConfig(format='%(asctime)s : %(levelname)s : %(message)s', level=logging.INFO)\n",
    "\n",
    "#Build the model\n",
    "model = gensim.models.Word2Vec(documents, #Word list\n",
    "                               min_count=10, #Ignore all words with total frequency lower than this                           \n",
    "                               workers=4, #Number of CPUs\n",
    "                               size=50,  #Embedding size\n",
    "                               window=5, #Maximum Distance between current and predicted word\n",
    "                               iter=10   #Number of iterations over the text corpus\n",
    "                              )  "
   ]
  },
  {
   "cell_type": "markdown",
   "metadata": {
    "colab_type": "text",
    "id": "hIJ3txSjMt9N"
   },
   "source": [
    "## Exploring the model"
   ]
  },
  {
   "cell_type": "markdown",
   "metadata": {
    "colab_type": "text",
    "id": "Sile50dGMt9O"
   },
   "source": [
    "How many words in the model and how many features"
   ]
  },
  {
   "cell_type": "code",
   "execution_count": 12,
   "metadata": {
    "colab": {
     "autoexec": {
      "startup": false,
      "wait_interval": 0
     }
    },
    "colab_type": "code",
    "id": "sPr2dUh9Mt9P"
   },
   "outputs": [
    {
     "data": {
      "text/plain": [
       "(28322, 50)"
      ]
     },
     "execution_count": 12,
     "metadata": {},
     "output_type": "execute_result"
    }
   ],
   "source": [
    "model.wv.vectors.shape"
   ]
  },
  {
   "cell_type": "code",
   "execution_count": 13,
   "metadata": {
    "colab": {
     "autoexec": {
      "startup": false,
      "wait_interval": 0
     }
    },
    "colab_type": "code",
    "id": "5f4a8XW8Mt9U"
   },
   "outputs": [
    {
     "data": {
      "text/plain": [
       "28322"
      ]
     },
     "execution_count": 13,
     "metadata": {},
     "output_type": "execute_result"
    }
   ],
   "source": [
    "len(model.wv.vocab)"
   ]
  },
  {
   "cell_type": "markdown",
   "metadata": {
    "colab_type": "text",
    "id": "RolB4xBoMt9X"
   },
   "source": [
    "Get an embedding for a word"
   ]
  },
  {
   "cell_type": "code",
   "execution_count": 14,
   "metadata": {
    "colab": {
     "autoexec": {
      "startup": false,
      "wait_interval": 0
     }
    },
    "colab_type": "code",
    "id": "jYyThxMTMt9Y"
   },
   "outputs": [
    {
     "data": {
      "text/plain": [
       "array([-8.9273852e-01, -1.2788788e+00, -6.2977916e-01,  7.1243864e-01,\n",
       "        4.2914748e-02,  1.2252207e+00,  5.7384908e-01, -2.1514966e-01,\n",
       "       -2.4799021e-01, -2.8029731e-01, -1.4586948e-01,  1.3179365e-04,\n",
       "       -7.5423993e-02, -1.3328782e+00, -1.2185906e+00,  3.5757071e-01,\n",
       "       -5.2048624e-01, -5.4220170e-01,  4.8002150e-02, -3.0896321e-01,\n",
       "        1.6975659e+00, -7.1009678e-01,  7.6559538e-01,  4.1087532e-01,\n",
       "       -1.3164710e+00,  3.7278375e-01,  5.9689718e-01,  7.0897996e-01,\n",
       "       -5.8611524e-01, -5.6818128e-01,  9.0191489e-01,  4.6683010e-01,\n",
       "       -1.1454289e-01, -4.3652499e-01, -5.3469896e-01,  1.8673523e-01,\n",
       "        6.8095994e-01, -5.2233654e-01, -4.3626478e-01, -7.8139061e-01,\n",
       "       -1.4305691e-02, -1.7421122e-01, -1.3110901e+00,  3.7752640e-01,\n",
       "       -2.4973139e-01, -3.1677586e-01,  1.1957284e-01, -5.0293458e-01,\n",
       "        2.9535639e-01, -7.3778003e-01], dtype=float32)"
      ]
     },
     "execution_count": 14,
     "metadata": {},
     "output_type": "execute_result"
    }
   ],
   "source": [
    "model.wv['flower']"
   ]
  },
  {
   "cell_type": "markdown",
   "metadata": {
    "colab_type": "text",
    "id": "Ht16Kl8nMt9b"
   },
   "source": [
    "Saving the model"
   ]
  },
  {
   "cell_type": "code",
   "execution_count": 15,
   "metadata": {
    "colab": {
     "autoexec": {
      "startup": false,
      "wait_interval": 0
     }
    },
    "colab_type": "code",
    "id": "xOL6bUnOMt9b"
   },
   "outputs": [
    {
     "name": "stderr",
     "output_type": "stream",
     "text": [
      "2018-10-06 18:04:34,267 : INFO : saving Word2Vec object under word2vec-movie-50, separately None\n",
      "2018-10-06 18:04:34,277 : INFO : not storing attribute vectors_norm\n",
      "2018-10-06 18:04:34,308 : INFO : not storing attribute cum_table\n",
      "2018-10-06 18:04:35,441 : INFO : saved word2vec-movie-50\n"
     ]
    }
   ],
   "source": [
    "model.save('word2vec-movie-50')"
   ]
  },
  {
   "cell_type": "markdown",
   "metadata": {
    "colab_type": "text",
    "id": "f8FvX-k1Mt9g"
   },
   "source": [
    "Finding Words which have similar meaning"
   ]
  },
  {
   "cell_type": "code",
   "execution_count": 16,
   "metadata": {
    "colab": {
     "autoexec": {
      "startup": false,
      "wait_interval": 0
     }
    },
    "colab_type": "code",
    "id": "mpBOe3AhMt9g"
   },
   "outputs": [
    {
     "name": "stderr",
     "output_type": "stream",
     "text": [
      "2018-10-06 18:04:40,552 : INFO : precomputing L2-norms of word weight vectors\n",
      "C:\\Users\\s.mudalapuram\\AppData\\Local\\Continuum\\Anaconda3\\lib\\site-packages\\gensim\\matutils.py:737: FutureWarning: Conversion of the second argument of issubdtype from `int` to `np.signedinteger` is deprecated. In future, it will be treated as `np.int32 == np.dtype(int).type`.\n",
      "  if np.issubdtype(vec.dtype, np.int):\n"
     ]
    },
    {
     "data": {
      "text/plain": [
       "[('fantastic', 0.8808208703994751),\n",
       " ('wonderful', 0.8690458536148071),\n",
       " ('terrific', 0.8667196035385132),\n",
       " ('fine', 0.846993088722229),\n",
       " ('good', 0.823563814163208),\n",
       " ('brilliant', 0.8093618154525757),\n",
       " ('superb', 0.7903881072998047),\n",
       " ('perfect', 0.7598206996917725),\n",
       " ('nice', 0.7592012882232666),\n",
       " ('marvelous', 0.7441679239273071)]"
      ]
     },
     "execution_count": 16,
     "metadata": {},
     "output_type": "execute_result"
    }
   ],
   "source": [
    "model.wv.most_similar('great')"
   ]
  },
  {
   "cell_type": "markdown",
   "metadata": {
    "colab_type": "text",
    "id": "HOt9iP2nMt9k"
   },
   "source": [
    "Find the Word which is not like others"
   ]
  },
  {
   "cell_type": "code",
   "execution_count": 17,
   "metadata": {
    "colab": {
     "autoexec": {
      "startup": false,
      "wait_interval": 0
     }
    },
    "colab_type": "code",
    "id": "0pCs1n2aMt9l"
   },
   "outputs": [
    {
     "name": "stderr",
     "output_type": "stream",
     "text": [
      "C:\\Users\\s.mudalapuram\\AppData\\Local\\Continuum\\Anaconda3\\lib\\site-packages\\gensim\\matutils.py:737: FutureWarning: Conversion of the second argument of issubdtype from `int` to `np.signedinteger` is deprecated. In future, it will be treated as `np.int32 == np.dtype(int).type`.\n",
      "  if np.issubdtype(vec.dtype, np.int):\n"
     ]
    },
    {
     "data": {
      "text/plain": [
       "'kitchen'"
      ]
     },
     "execution_count": 17,
     "metadata": {},
     "output_type": "execute_result"
    }
   ],
   "source": [
    "model.wv.doesnt_match(\"man woman child kitchen\".split())"
   ]
  },
  {
   "cell_type": "markdown",
   "metadata": {
    "colab_type": "text",
    "id": "Q0RTIin2Mt9p"
   },
   "source": [
    "1. Equation king + man = queen + ?\n",
    "2. In this case there may not be enough data for this equation"
   ]
  },
  {
   "cell_type": "code",
   "execution_count": 18,
   "metadata": {
    "colab": {
     "autoexec": {
      "startup": false,
      "wait_interval": 0
     }
    },
    "colab_type": "code",
    "id": "tJ7AhDvGMt9p"
   },
   "outputs": [
    {
     "name": "stderr",
     "output_type": "stream",
     "text": [
      "C:\\Users\\s.mudalapuram\\AppData\\Local\\Continuum\\Anaconda3\\lib\\site-packages\\gensim\\matutils.py:737: FutureWarning: Conversion of the second argument of issubdtype from `int` to `np.signedinteger` is deprecated. In future, it will be treated as `np.int32 == np.dtype(int).type`.\n",
      "  if np.issubdtype(vec.dtype, np.int):\n"
     ]
    },
    {
     "data": {
      "text/plain": [
       "[('scientist', 0.5587218999862671),\n",
       " ('marine', 0.5246001482009888),\n",
       " ('soldier', 0.5158500075340271),\n",
       " ('nemesis', 0.5096298456192017),\n",
       " ('master', 0.5050163269042969),\n",
       " ('joker', 0.4986332952976227),\n",
       " ('cassavetes', 0.4934775233268738),\n",
       " ('genius', 0.49158549308776855),\n",
       " ('vigilante', 0.48155850172042847),\n",
       " ('mastermind', 0.48094528913497925)]"
      ]
     },
     "execution_count": 18,
     "metadata": {},
     "output_type": "execute_result"
    }
   ],
   "source": [
    "model.wv.most_similar(positive=['king','man'], negative=['queen'])"
   ]
  },
  {
   "cell_type": "markdown",
   "metadata": {
    "colab_type": "text",
    "id": "MzDnSm0jMt9u"
   },
   "source": [
    "Loading a model from Memory"
   ]
  },
  {
   "cell_type": "code",
   "execution_count": 19,
   "metadata": {
    "colab": {
     "autoexec": {
      "startup": false,
      "wait_interval": 0
     }
    },
    "colab_type": "code",
    "id": "K-a45ZRjMt9w"
   },
   "outputs": [
    {
     "name": "stderr",
     "output_type": "stream",
     "text": [
      "2018-10-06 18:04:53,250 : INFO : loading Word2Vec object from word2vec-movie-50\n",
      "2018-10-06 18:04:53,628 : INFO : loading wv recursively from word2vec-movie-50.wv.* with mmap=None\n",
      "2018-10-06 18:04:53,632 : INFO : setting ignored attribute vectors_norm to None\n",
      "2018-10-06 18:04:53,633 : INFO : loading vocabulary recursively from word2vec-movie-50.vocabulary.* with mmap=None\n",
      "2018-10-06 18:04:53,638 : INFO : loading trainables recursively from word2vec-movie-50.trainables.* with mmap=None\n",
      "2018-10-06 18:04:53,643 : INFO : setting ignored attribute cum_table to None\n",
      "2018-10-06 18:04:53,648 : INFO : loaded word2vec-movie-50\n"
     ]
    }
   ],
   "source": [
    "model = gensim.models.Word2Vec.load('word2vec-movie-50')"
   ]
  },
  {
   "cell_type": "code",
   "execution_count": 20,
   "metadata": {},
   "outputs": [
    {
     "name": "stderr",
     "output_type": "stream",
     "text": [
      "C:\\Users\\s.mudalapuram\\AppData\\Local\\Continuum\\Anaconda3\\lib\\site-packages\\ipykernel_launcher.py:1: DeprecationWarning: Call to deprecated `wv` (Attribute will be removed in 4.0.0, use self instead).\n",
      "  \"\"\"Entry point for launching an IPython kernel.\n",
      "2018-10-06 18:04:54,618 : INFO : precomputing L2-norms of word weight vectors\n",
      "C:\\Users\\s.mudalapuram\\AppData\\Local\\Continuum\\Anaconda3\\lib\\site-packages\\gensim\\matutils.py:737: FutureWarning: Conversion of the second argument of issubdtype from `int` to `np.signedinteger` is deprecated. In future, it will be treated as `np.int32 == np.dtype(int).type`.\n",
      "  if np.issubdtype(vec.dtype, np.int):\n"
     ]
    },
    {
     "data": {
      "text/plain": [
       "[('manipulate', 0.7469743490219116),\n",
       " ('impose', 0.7460099458694458),\n",
       " ('expose', 0.7449526786804199),\n",
       " ('cater', 0.7389202117919922),\n",
       " ('teach', 0.7382681369781494),\n",
       " ('convert', 0.7328129410743713),\n",
       " ('conduct', 0.7318152189254761),\n",
       " ('exploit', 0.7308415174484253),\n",
       " ('respond', 0.7161504030227661),\n",
       " ('entice', 0.7155665755271912)]"
      ]
     },
     "execution_count": 20,
     "metadata": {},
     "output_type": "execute_result"
    }
   ],
   "source": [
    "model.wv.wv.most_similar('educate')"
   ]
  },
  {
   "cell_type": "code",
   "execution_count": null,
   "metadata": {},
   "outputs": [],
   "source": []
  },
  {
   "cell_type": "code",
   "execution_count": null,
   "metadata": {},
   "outputs": [],
   "source": []
  }
 ],
 "metadata": {
  "colab": {
   "default_view": {},
   "name": "1a. Word2vec_gensim_movie_data.ipynb",
   "private_outputs": true,
   "provenance": [],
   "version": "0.3.2",
   "views": {}
  },
  "kernelspec": {
   "display_name": "Python 3",
   "language": "python",
   "name": "python3"
  },
  "language_info": {
   "codemirror_mode": {
    "name": "ipython",
    "version": 3
   },
   "file_extension": ".py",
   "mimetype": "text/x-python",
   "name": "python",
   "nbconvert_exporter": "python",
   "pygments_lexer": "ipython3",
   "version": "3.6.5"
  }
 },
 "nbformat": 4,
 "nbformat_minor": 1
}
